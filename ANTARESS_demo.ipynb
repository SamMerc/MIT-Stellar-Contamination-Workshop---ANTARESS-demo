{
  "nbformat": 4,
  "nbformat_minor": 0,
  "metadata": {
    "colab": {
      "provenance": [],
      "collapsed_sections": [
        "e26tont_FNpD",
        "QhskrKI_Eja7",
        "MWAsTAEXS7zw"
      ],
      "authorship_tag": "ABX9TyOlvwkIe3MGZOZDJ5QnT7MU",
      "include_colab_link": true
    },
    "kernelspec": {
      "name": "python3",
      "display_name": "Python 3"
    },
    "language_info": {
      "name": "python"
    }
  },
  "cells": [
    {
      "cell_type": "markdown",
      "metadata": {
        "id": "view-in-github",
        "colab_type": "text"
      },
      "source": [
        "<a href=\"https://colab.research.google.com/github/SamMerc/MIT-Stellar-Contamination-Workshop---ANTARESS-demo/blob/main/ANTARESS_demo.ipynb\" target=\"_parent\"><img src=\"https://colab.research.google.com/assets/colab-badge.svg\" alt=\"Open In Colab\"/></a>"
      ]
    },
    {
      "cell_type": "markdown",
      "source": [
        "# MIT Stellar Contamination Workshop\n",
        "## Focus Session IV : Modeling Starspots and Active Surfaces\n",
        "\n",
        "### `ANTARESS` with active regions demo\n",
        "#### Links\n",
        "- `ANTARESS` : [source](https://gitlab.unige.ch/spice_dune/antaress), [docs](https://www.astro.unige.ch/~bourriev/antaress/doc/html/)"
      ],
      "metadata": {
        "id": "BezsgTnqLN02"
      }
    },
    {
      "cell_type": "markdown",
      "source": [
        "# Pre-demo requirements"
      ],
      "metadata": {
        "id": "phTcy0vvOQaL"
      }
    },
    {
      "cell_type": "markdown",
      "source": [
        "##Install `ANTARESS`"
      ],
      "metadata": {
        "id": "e26tont_FNpD"
      }
    },
    {
      "cell_type": "code",
      "source": [
        "%%bash\n",
        "\n",
        "apt-get update -qq\n",
        "apt-get install -y libgsl-dev libcerf-dev\n",
        "pip install \"numpy<2.0\" \"scipy<1.13\" --force-reinstall\n",
        "pip install git+https://gitlab.unige.ch/spice_dune/antaress.git@active_region_branch"
      ],
      "metadata": {
        "colab": {
          "base_uri": "https://localhost:8080/"
        },
        "id": "OpqiiIoEOPCK",
        "outputId": "36f60ca1-51e9-49b9-e323-73d003d24d64"
      },
      "execution_count": null,
      "outputs": [
        {
          "output_type": "stream",
          "name": "stdout",
          "text": [
            "Reading package lists...\n",
            "Building dependency tree...\n",
            "Reading state information...\n",
            "libcerf-dev is already the newest version (1.3-2.1).\n",
            "libgsl-dev is already the newest version (2.7.1+dfsg-3).\n",
            "0 upgraded, 0 newly installed, 0 to remove and 45 not upgraded.\n",
            "Collecting numpy<2.0\n",
            "  Using cached numpy-1.26.4-cp312-cp312-manylinux_2_17_x86_64.manylinux2014_x86_64.whl.metadata (61 kB)\n",
            "Collecting scipy<1.13\n",
            "  Using cached scipy-1.12.0-cp312-cp312-manylinux_2_17_x86_64.manylinux2014_x86_64.whl.metadata (60 kB)\n",
            "Using cached numpy-1.26.4-cp312-cp312-manylinux_2_17_x86_64.manylinux2014_x86_64.whl (18.0 MB)\n",
            "Using cached scipy-1.12.0-cp312-cp312-manylinux_2_17_x86_64.manylinux2014_x86_64.whl (37.8 MB)\n",
            "Installing collected packages: numpy, scipy\n",
            "  Attempting uninstall: numpy\n",
            "    Found existing installation: numpy 1.26.4\n",
            "    Uninstalling numpy-1.26.4:\n",
            "      Successfully uninstalled numpy-1.26.4\n",
            "  Attempting uninstall: scipy\n",
            "    Found existing installation: scipy 1.12.0\n",
            "    Uninstalling scipy-1.12.0:\n",
            "      Successfully uninstalled scipy-1.12.0\n",
            "Successfully installed numpy-1.26.4 scipy-1.12.0\n",
            "Collecting git+https://gitlab.unige.ch/spice_dune/antaress.git@active_region_branch\n",
            "  Cloning https://gitlab.unige.ch/spice_dune/antaress.git (to revision active_region_branch) to /tmp/pip-req-build-zwzj955r\n",
            "  Resolved https://gitlab.unige.ch/spice_dune/antaress.git to commit dbe41d19e5fa5357b19cdd74443e258ec0b956fb\n",
            "  Installing build dependencies: started\n",
            "  Installing build dependencies: finished with status 'done'\n",
            "  Getting requirements to build wheel: started\n",
            "  Getting requirements to build wheel: finished with status 'done'\n",
            "  Preparing metadata (pyproject.toml): started\n",
            "  Preparing metadata (pyproject.toml): finished with status 'done'\n",
            "Requirement already satisfied: numpy>=1.16 in /usr/local/lib/python3.12/dist-packages (from antaress==1.1.8) (1.26.4)\n",
            "Requirement already satisfied: scipy in /usr/local/lib/python3.12/dist-packages (from antaress==1.1.8) (1.12.0)\n",
            "Requirement already satisfied: matplotlib in /usr/local/lib/python3.12/dist-packages (from antaress==1.1.8) (3.10.0)\n",
            "Requirement already satisfied: imageio in /usr/local/lib/python3.12/dist-packages (from antaress==1.1.8) (2.37.0)\n",
            "Requirement already satisfied: pathos in /usr/local/lib/python3.12/dist-packages (from antaress==1.1.8) (0.3.4)\n",
            "Requirement already satisfied: mpmath in /usr/local/lib/python3.12/dist-packages (from antaress==1.1.8) (1.3.0)\n",
            "Requirement already satisfied: lmfit in /usr/local/lib/python3.12/dist-packages (from antaress==1.1.8) (1.3.4)\n",
            "Requirement already satisfied: batman-package in /usr/local/lib/python3.12/dist-packages (from antaress==1.1.8) (2.5.3)\n",
            "Requirement already satisfied: astropy in /usr/local/lib/python3.12/dist-packages (from antaress==1.1.8) (7.1.0)\n",
            "Requirement already satisfied: emcee in /usr/local/lib/python3.12/dist-packages (from antaress==1.1.8) (3.1.6)\n",
            "Requirement already satisfied: pandas in /usr/local/lib/python3.12/dist-packages (from antaress==1.1.8) (2.2.2)\n",
            "Requirement already satisfied: dace-query in /usr/local/lib/python3.12/dist-packages (from antaress==1.1.8) (2.0.0)\n",
            "Requirement already satisfied: statsmodels in /usr/local/lib/python3.12/dist-packages (from antaress==1.1.8) (0.14.5)\n",
            "Requirement already satisfied: bindensity in /usr/local/lib/python3.12/dist-packages (from antaress==1.1.8) (0.1.3)\n",
            "Requirement already satisfied: PyAstronomy in /usr/local/lib/python3.12/dist-packages (from antaress==1.1.8) (0.23.0)\n",
            "Requirement already satisfied: pysme-astro in /usr/local/lib/python3.12/dist-packages (from antaress==1.1.8) (0.6.15)\n",
            "Requirement already satisfied: jupyterlab in /usr/local/lib/python3.12/dist-packages (from antaress==1.1.8) (4.4.6)\n",
            "Requirement already satisfied: arviz in /usr/local/lib/python3.12/dist-packages (from antaress==1.1.8) (0.22.0)\n",
            "Requirement already satisfied: dynesty in /usr/local/lib/python3.12/dist-packages (from antaress==1.1.8) (2.1.5)\n",
            "Requirement already satisfied: barycorrpy in /usr/local/lib/python3.12/dist-packages (from antaress==1.1.8) (0.4.4)\n",
            "Requirement already satisfied: setuptools>=60.0.0 in /usr/local/lib/python3.12/dist-packages (from arviz->antaress==1.1.8) (75.2.0)\n",
            "Requirement already satisfied: packaging in /usr/local/lib/python3.12/dist-packages (from arviz->antaress==1.1.8) (25.0)\n",
            "Requirement already satisfied: xarray>=2023.7.0 in /usr/local/lib/python3.12/dist-packages (from arviz->antaress==1.1.8) (2025.8.0)\n",
            "Requirement already satisfied: h5netcdf>=1.0.2 in /usr/local/lib/python3.12/dist-packages (from arviz->antaress==1.1.8) (1.6.4)\n",
            "Requirement already satisfied: typing-extensions>=4.1.0 in /usr/local/lib/python3.12/dist-packages (from arviz->antaress==1.1.8) (4.14.1)\n",
            "Requirement already satisfied: xarray-einstats>=0.3 in /usr/local/lib/python3.12/dist-packages (from arviz->antaress==1.1.8) (0.9.1)\n",
            "Requirement already satisfied: contourpy>=1.0.1 in /usr/local/lib/python3.12/dist-packages (from matplotlib->antaress==1.1.8) (1.3.3)\n",
            "Requirement already satisfied: cycler>=0.10 in /usr/local/lib/python3.12/dist-packages (from matplotlib->antaress==1.1.8) (0.12.1)\n",
            "Requirement already satisfied: fonttools>=4.22.0 in /usr/local/lib/python3.12/dist-packages (from matplotlib->antaress==1.1.8) (4.59.1)\n",
            "Requirement already satisfied: kiwisolver>=1.3.1 in /usr/local/lib/python3.12/dist-packages (from matplotlib->antaress==1.1.8) (1.4.9)\n",
            "Requirement already satisfied: pillow>=8 in /usr/local/lib/python3.12/dist-packages (from matplotlib->antaress==1.1.8) (11.3.0)\n",
            "Requirement already satisfied: pyparsing>=2.3.1 in /usr/local/lib/python3.12/dist-packages (from matplotlib->antaress==1.1.8) (3.2.3)\n",
            "Requirement already satisfied: python-dateutil>=2.7 in /usr/local/lib/python3.12/dist-packages (from matplotlib->antaress==1.1.8) (2.9.0.post0)\n",
            "Requirement already satisfied: pytz>=2020.1 in /usr/local/lib/python3.12/dist-packages (from pandas->antaress==1.1.8) (2025.2)\n",
            "Requirement already satisfied: tzdata>=2022.7 in /usr/local/lib/python3.12/dist-packages (from pandas->antaress==1.1.8) (2025.2)\n",
            "Requirement already satisfied: pyerfa>=2.0.1.1 in /usr/local/lib/python3.12/dist-packages (from astropy->antaress==1.1.8) (2.0.1.5)\n",
            "Requirement already satisfied: astropy-iers-data>=0.2025.4.28.0.37.27 in /usr/local/lib/python3.12/dist-packages (from astropy->antaress==1.1.8) (0.2025.8.18.0.40.14)\n",
            "Requirement already satisfied: PyYAML>=6.0.0 in /usr/local/lib/python3.12/dist-packages (from astropy->antaress==1.1.8) (6.0.2)\n",
            "Requirement already satisfied: jplephem in /usr/local/lib/python3.12/dist-packages (from barycorrpy->antaress==1.1.8) (2.23)\n",
            "Requirement already satisfied: astroquery>=0.3.10 in /usr/local/lib/python3.12/dist-packages (from barycorrpy->antaress==1.1.8) (0.4.10)\n",
            "Requirement already satisfied: requests>=2.32.3 in /usr/local/lib/python3.12/dist-packages (from dace-query->antaress==1.1.8) (2.32.4)\n",
            "Requirement already satisfied: async-lru>=1.0.0 in /usr/local/lib/python3.12/dist-packages (from jupyterlab->antaress==1.1.8) (2.0.5)\n",
            "Requirement already satisfied: httpx<1,>=0.25.0 in /usr/local/lib/python3.12/dist-packages (from jupyterlab->antaress==1.1.8) (0.28.1)\n",
            "Requirement already satisfied: ipykernel!=6.30.0,>=6.5.0 in /usr/local/lib/python3.12/dist-packages (from jupyterlab->antaress==1.1.8) (6.17.1)\n",
            "Requirement already satisfied: jinja2>=3.0.3 in /usr/local/lib/python3.12/dist-packages (from jupyterlab->antaress==1.1.8) (3.1.6)\n",
            "Requirement already satisfied: jupyter-core in /usr/local/lib/python3.12/dist-packages (from jupyterlab->antaress==1.1.8) (5.8.1)\n",
            "Requirement already satisfied: jupyter-lsp>=2.0.0 in /usr/local/lib/python3.12/dist-packages (from jupyterlab->antaress==1.1.8) (2.2.6)\n",
            "Requirement already satisfied: jupyter-server<3,>=2.4.0 in /usr/local/lib/python3.12/dist-packages (from jupyterlab->antaress==1.1.8) (2.17.0)\n",
            "Requirement already satisfied: jupyterlab-server<3,>=2.27.1 in /usr/local/lib/python3.12/dist-packages (from jupyterlab->antaress==1.1.8) (2.27.3)\n",
            "Requirement already satisfied: notebook-shim>=0.2 in /usr/local/lib/python3.12/dist-packages (from jupyterlab->antaress==1.1.8) (0.2.4)\n",
            "Requirement already satisfied: tornado>=6.2.0 in /usr/local/lib/python3.12/dist-packages (from jupyterlab->antaress==1.1.8) (6.4.2)\n",
            "Requirement already satisfied: traitlets in /usr/local/lib/python3.12/dist-packages (from jupyterlab->antaress==1.1.8) (5.7.1)\n",
            "Requirement already satisfied: asteval>=1.0 in /usr/local/lib/python3.12/dist-packages (from lmfit->antaress==1.1.8) (1.0.6)\n",
            "Requirement already satisfied: uncertainties>=3.2.2 in /usr/local/lib/python3.12/dist-packages (from lmfit->antaress==1.1.8) (3.2.3)\n",
            "Requirement already satisfied: dill>=0.3.4 in /usr/local/lib/python3.12/dist-packages (from lmfit->antaress==1.1.8) (0.4.0)\n",
            "Requirement already satisfied: ppft>=1.7.7 in /usr/local/lib/python3.12/dist-packages (from pathos->antaress==1.1.8) (1.7.7)\n",
            "Requirement already satisfied: pox>=0.3.6 in /usr/local/lib/python3.12/dist-packages (from pathos->antaress==1.1.8) (0.3.6)\n",
            "Requirement already satisfied: multiprocess>=0.70.18 in /usr/local/lib/python3.12/dist-packages (from pathos->antaress==1.1.8) (0.70.18)\n",
            "Requirement already satisfied: six in /usr/local/lib/python3.12/dist-packages (from PyAstronomy->antaress==1.1.8) (1.17.0)\n",
            "Requirement already satisfied: quantities in /usr/local/lib/python3.12/dist-packages (from PyAstronomy->antaress==1.1.8) (0.16.2)\n",
            "Requirement already satisfied: bidict in /usr/local/lib/python3.12/dist-packages (from PyAstronomy->antaress==1.1.8) (0.23.1)\n",
            "Requirement already satisfied: tqdm>=4.64 in /usr/local/lib/python3.12/dist-packages (from pysme-astro->antaress==1.1.8) (4.67.1)\n",
            "Requirement already satisfied: colorlog>=6.7 in /usr/local/lib/python3.12/dist-packages (from pysme-astro->antaress==1.1.8) (6.9.0)\n",
            "Requirement already satisfied: pybtex>=0.24 in /usr/local/lib/python3.12/dist-packages (from pysme-astro->antaress==1.1.8) (0.25.1)\n",
            "Requirement already satisfied: flex-format>=0.2.18 in /usr/local/lib/python3.12/dist-packages (from pysme-astro->antaress==1.1.8) (0.2.18)\n",
            "Requirement already satisfied: plotly<6.0,>=5.11 in /usr/local/lib/python3.12/dist-packages (from pysme-astro->antaress==1.1.8) (5.24.1)\n",
            "Requirement already satisfied: wget>=3.2 in /usr/local/lib/python3.12/dist-packages (from pysme-astro->antaress==1.1.8) (3.2)\n",
            "Requirement already satisfied: pqdm>=0.1 in /usr/local/lib/python3.12/dist-packages (from pysme-astro->antaress==1.1.8) (0.2.0)\n",
            "Requirement already satisfied: patsy>=0.5.6 in /usr/local/lib/python3.12/dist-packages (from statsmodels->antaress==1.1.8) (1.0.1)\n",
            "Requirement already satisfied: beautifulsoup4>=4.8 in /usr/local/lib/python3.12/dist-packages (from astroquery>=0.3.10->barycorrpy->antaress==1.1.8) (4.13.4)\n",
            "Requirement already satisfied: html5lib>=0.999 in /usr/local/lib/python3.12/dist-packages (from astroquery>=0.3.10->barycorrpy->antaress==1.1.8) (1.1)\n",
            "Requirement already satisfied: keyring>=15.0 in /usr/local/lib/python3.12/dist-packages (from astroquery>=0.3.10->barycorrpy->antaress==1.1.8) (25.6.0)\n",
            "Requirement already satisfied: pyvo>=1.5 in /usr/local/lib/python3.12/dist-packages (from astroquery>=0.3.10->barycorrpy->antaress==1.1.8) (1.7)\n",
            "Requirement already satisfied: h5py in /usr/local/lib/python3.12/dist-packages (from h5netcdf>=1.0.2->arviz->antaress==1.1.8) (3.14.0)\n",
            "Requirement already satisfied: anyio in /usr/local/lib/python3.12/dist-packages (from httpx<1,>=0.25.0->jupyterlab->antaress==1.1.8) (4.10.0)\n",
            "Requirement already satisfied: certifi in /usr/local/lib/python3.12/dist-packages (from httpx<1,>=0.25.0->jupyterlab->antaress==1.1.8) (2025.8.3)\n",
            "Requirement already satisfied: httpcore==1.* in /usr/local/lib/python3.12/dist-packages (from httpx<1,>=0.25.0->jupyterlab->antaress==1.1.8) (1.0.9)\n",
            "Requirement already satisfied: idna in /usr/local/lib/python3.12/dist-packages (from httpx<1,>=0.25.0->jupyterlab->antaress==1.1.8) (3.10)\n",
            "Requirement already satisfied: h11>=0.16 in /usr/local/lib/python3.12/dist-packages (from httpcore==1.*->httpx<1,>=0.25.0->jupyterlab->antaress==1.1.8) (0.16.0)\n",
            "Requirement already satisfied: debugpy>=1.0 in /usr/local/lib/python3.12/dist-packages (from ipykernel!=6.30.0,>=6.5.0->jupyterlab->antaress==1.1.8) (1.8.15)\n",
            "Requirement already satisfied: ipython>=7.23.1 in /usr/local/lib/python3.12/dist-packages (from ipykernel!=6.30.0,>=6.5.0->jupyterlab->antaress==1.1.8) (7.34.0)\n",
            "Requirement already satisfied: jupyter-client>=6.1.12 in /usr/local/lib/python3.12/dist-packages (from ipykernel!=6.30.0,>=6.5.0->jupyterlab->antaress==1.1.8) (8.6.3)\n",
            "Requirement already satisfied: matplotlib-inline>=0.1 in /usr/local/lib/python3.12/dist-packages (from ipykernel!=6.30.0,>=6.5.0->jupyterlab->antaress==1.1.8) (0.1.7)\n",
            "Requirement already satisfied: nest-asyncio in /usr/local/lib/python3.12/dist-packages (from ipykernel!=6.30.0,>=6.5.0->jupyterlab->antaress==1.1.8) (1.6.0)\n",
            "Requirement already satisfied: psutil in /usr/local/lib/python3.12/dist-packages (from ipykernel!=6.30.0,>=6.5.0->jupyterlab->antaress==1.1.8) (5.9.5)\n",
            "Requirement already satisfied: pyzmq>=17 in /usr/local/lib/python3.12/dist-packages (from ipykernel!=6.30.0,>=6.5.0->jupyterlab->antaress==1.1.8) (26.2.1)\n",
            "Requirement already satisfied: MarkupSafe>=2.0 in /usr/local/lib/python3.12/dist-packages (from jinja2>=3.0.3->jupyterlab->antaress==1.1.8) (3.0.2)\n",
            "Requirement already satisfied: argon2-cffi>=21.1 in /usr/local/lib/python3.12/dist-packages (from jupyter-server<3,>=2.4.0->jupyterlab->antaress==1.1.8) (25.1.0)\n",
            "Requirement already satisfied: jupyter-events>=0.11.0 in /usr/local/lib/python3.12/dist-packages (from jupyter-server<3,>=2.4.0->jupyterlab->antaress==1.1.8) (0.12.0)\n",
            "Requirement already satisfied: jupyter-server-terminals>=0.4.4 in /usr/local/lib/python3.12/dist-packages (from jupyter-server<3,>=2.4.0->jupyterlab->antaress==1.1.8) (0.5.3)\n",
            "Requirement already satisfied: nbconvert>=6.4.4 in /usr/local/lib/python3.12/dist-packages (from jupyter-server<3,>=2.4.0->jupyterlab->antaress==1.1.8) (7.16.6)\n",
            "Requirement already satisfied: nbformat>=5.3.0 in /usr/local/lib/python3.12/dist-packages (from jupyter-server<3,>=2.4.0->jupyterlab->antaress==1.1.8) (5.10.4)\n",
            "Requirement already satisfied: prometheus-client>=0.9 in /usr/local/lib/python3.12/dist-packages (from jupyter-server<3,>=2.4.0->jupyterlab->antaress==1.1.8) (0.22.1)\n",
            "Requirement already satisfied: send2trash>=1.8.2 in /usr/local/lib/python3.12/dist-packages (from jupyter-server<3,>=2.4.0->jupyterlab->antaress==1.1.8) (1.8.3)\n",
            "Requirement already satisfied: terminado>=0.8.3 in /usr/local/lib/python3.12/dist-packages (from jupyter-server<3,>=2.4.0->jupyterlab->antaress==1.1.8) (0.18.1)\n",
            "Requirement already satisfied: websocket-client>=1.7 in /usr/local/lib/python3.12/dist-packages (from jupyter-server<3,>=2.4.0->jupyterlab->antaress==1.1.8) (1.8.0)\n",
            "Requirement already satisfied: platformdirs>=2.5 in /usr/local/lib/python3.12/dist-packages (from jupyter-core->jupyterlab->antaress==1.1.8) (4.3.8)\n",
            "Requirement already satisfied: babel>=2.10 in /usr/local/lib/python3.12/dist-packages (from jupyterlab-server<3,>=2.27.1->jupyterlab->antaress==1.1.8) (2.17.0)\n",
            "Requirement already satisfied: json5>=0.9.0 in /usr/local/lib/python3.12/dist-packages (from jupyterlab-server<3,>=2.27.1->jupyterlab->antaress==1.1.8) (0.12.1)\n",
            "Requirement already satisfied: jsonschema>=4.18.0 in /usr/local/lib/python3.12/dist-packages (from jupyterlab-server<3,>=2.27.1->jupyterlab->antaress==1.1.8) (4.25.1)\n",
            "Requirement already satisfied: tenacity>=6.2.0 in /usr/local/lib/python3.12/dist-packages (from plotly<6.0,>=5.11->pysme-astro->antaress==1.1.8) (8.5.0)\n",
            "Requirement already satisfied: bounded-pool-executor in /usr/local/lib/python3.12/dist-packages (from pqdm>=0.1->pysme-astro->antaress==1.1.8) (0.0.3)\n",
            "Requirement already satisfied: latexcodec>=1.0.4 in /usr/local/lib/python3.12/dist-packages (from pybtex>=0.24->pysme-astro->antaress==1.1.8) (3.0.1)\n",
            "Requirement already satisfied: charset_normalizer<4,>=2 in /usr/local/lib/python3.12/dist-packages (from requests>=2.32.3->dace-query->antaress==1.1.8) (3.4.3)\n",
            "Requirement already satisfied: urllib3<3,>=1.21.1 in /usr/local/lib/python3.12/dist-packages (from requests>=2.32.3->dace-query->antaress==1.1.8) (2.5.0)\n",
            "Requirement already satisfied: sniffio>=1.1 in /usr/local/lib/python3.12/dist-packages (from anyio->httpx<1,>=0.25.0->jupyterlab->antaress==1.1.8) (1.3.1)\n",
            "Requirement already satisfied: argon2-cffi-bindings in /usr/local/lib/python3.12/dist-packages (from argon2-cffi>=21.1->jupyter-server<3,>=2.4.0->jupyterlab->antaress==1.1.8) (25.1.0)\n",
            "Requirement already satisfied: soupsieve>1.2 in /usr/local/lib/python3.12/dist-packages (from beautifulsoup4>=4.8->astroquery>=0.3.10->barycorrpy->antaress==1.1.8) (2.7)\n",
            "Requirement already satisfied: webencodings in /usr/local/lib/python3.12/dist-packages (from html5lib>=0.999->astroquery>=0.3.10->barycorrpy->antaress==1.1.8) (0.5.1)\n",
            "Requirement already satisfied: jedi>=0.16 in /usr/local/lib/python3.12/dist-packages (from ipython>=7.23.1->ipykernel!=6.30.0,>=6.5.0->jupyterlab->antaress==1.1.8) (0.19.2)\n",
            "Requirement already satisfied: decorator in /usr/local/lib/python3.12/dist-packages (from ipython>=7.23.1->ipykernel!=6.30.0,>=6.5.0->jupyterlab->antaress==1.1.8) (4.4.2)\n",
            "Requirement already satisfied: pickleshare in /usr/local/lib/python3.12/dist-packages (from ipython>=7.23.1->ipykernel!=6.30.0,>=6.5.0->jupyterlab->antaress==1.1.8) (0.7.5)\n",
            "Requirement already satisfied: prompt-toolkit!=3.0.0,!=3.0.1,<3.1.0,>=2.0.0 in /usr/local/lib/python3.12/dist-packages (from ipython>=7.23.1->ipykernel!=6.30.0,>=6.5.0->jupyterlab->antaress==1.1.8) (3.0.51)\n",
            "Requirement already satisfied: pygments in /usr/local/lib/python3.12/dist-packages (from ipython>=7.23.1->ipykernel!=6.30.0,>=6.5.0->jupyterlab->antaress==1.1.8) (2.19.2)\n",
            "Requirement already satisfied: backcall in /usr/local/lib/python3.12/dist-packages (from ipython>=7.23.1->ipykernel!=6.30.0,>=6.5.0->jupyterlab->antaress==1.1.8) (0.2.0)\n",
            "Requirement already satisfied: pexpect>4.3 in /usr/local/lib/python3.12/dist-packages (from ipython>=7.23.1->ipykernel!=6.30.0,>=6.5.0->jupyterlab->antaress==1.1.8) (4.9.0)\n",
            "Requirement already satisfied: attrs>=22.2.0 in /usr/local/lib/python3.12/dist-packages (from jsonschema>=4.18.0->jupyterlab-server<3,>=2.27.1->jupyterlab->antaress==1.1.8) (25.3.0)\n",
            "Requirement already satisfied: jsonschema-specifications>=2023.03.6 in /usr/local/lib/python3.12/dist-packages (from jsonschema>=4.18.0->jupyterlab-server<3,>=2.27.1->jupyterlab->antaress==1.1.8) (2025.4.1)\n",
            "Requirement already satisfied: referencing>=0.28.4 in /usr/local/lib/python3.12/dist-packages (from jsonschema>=4.18.0->jupyterlab-server<3,>=2.27.1->jupyterlab->antaress==1.1.8) (0.36.2)\n",
            "Requirement already satisfied: rpds-py>=0.7.1 in /usr/local/lib/python3.12/dist-packages (from jsonschema>=4.18.0->jupyterlab-server<3,>=2.27.1->jupyterlab->antaress==1.1.8) (0.27.0)\n",
            "Requirement already satisfied: python-json-logger>=2.0.4 in /usr/local/lib/python3.12/dist-packages (from jupyter-events>=0.11.0->jupyter-server<3,>=2.4.0->jupyterlab->antaress==1.1.8) (3.3.0)\n",
            "Requirement already satisfied: rfc3339-validator in /usr/local/lib/python3.12/dist-packages (from jupyter-events>=0.11.0->jupyter-server<3,>=2.4.0->jupyterlab->antaress==1.1.8) (0.1.4)\n",
            "Requirement already satisfied: rfc3986-validator>=0.1.1 in /usr/local/lib/python3.12/dist-packages (from jupyter-events>=0.11.0->jupyter-server<3,>=2.4.0->jupyterlab->antaress==1.1.8) (0.1.1)\n",
            "Requirement already satisfied: SecretStorage>=3.2 in /usr/local/lib/python3.12/dist-packages (from keyring>=15.0->astroquery>=0.3.10->barycorrpy->antaress==1.1.8) (3.3.3)\n",
            "Requirement already satisfied: jeepney>=0.4.2 in /usr/local/lib/python3.12/dist-packages (from keyring>=15.0->astroquery>=0.3.10->barycorrpy->antaress==1.1.8) (0.9.0)\n",
            "Requirement already satisfied: jaraco.classes in /usr/local/lib/python3.12/dist-packages (from keyring>=15.0->astroquery>=0.3.10->barycorrpy->antaress==1.1.8) (3.4.0)\n",
            "Requirement already satisfied: jaraco.functools in /usr/local/lib/python3.12/dist-packages (from keyring>=15.0->astroquery>=0.3.10->barycorrpy->antaress==1.1.8) (4.2.1)\n",
            "Requirement already satisfied: jaraco.context in /usr/local/lib/python3.12/dist-packages (from keyring>=15.0->astroquery>=0.3.10->barycorrpy->antaress==1.1.8) (6.0.1)\n",
            "Requirement already satisfied: bleach!=5.0.0 in /usr/local/lib/python3.12/dist-packages (from bleach[css]!=5.0.0->nbconvert>=6.4.4->jupyter-server<3,>=2.4.0->jupyterlab->antaress==1.1.8) (6.2.0)\n",
            "Requirement already satisfied: defusedxml in /usr/local/lib/python3.12/dist-packages (from nbconvert>=6.4.4->jupyter-server<3,>=2.4.0->jupyterlab->antaress==1.1.8) (0.7.1)\n",
            "Requirement already satisfied: jupyterlab-pygments in /usr/local/lib/python3.12/dist-packages (from nbconvert>=6.4.4->jupyter-server<3,>=2.4.0->jupyterlab->antaress==1.1.8) (0.3.0)\n",
            "Requirement already satisfied: mistune<4,>=2.0.3 in /usr/local/lib/python3.12/dist-packages (from nbconvert>=6.4.4->jupyter-server<3,>=2.4.0->jupyterlab->antaress==1.1.8) (3.1.3)\n",
            "Requirement already satisfied: nbclient>=0.5.0 in /usr/local/lib/python3.12/dist-packages (from nbconvert>=6.4.4->jupyter-server<3,>=2.4.0->jupyterlab->antaress==1.1.8) (0.10.2)\n",
            "Requirement already satisfied: pandocfilters>=1.4.1 in /usr/local/lib/python3.12/dist-packages (from nbconvert>=6.4.4->jupyter-server<3,>=2.4.0->jupyterlab->antaress==1.1.8) (1.5.1)\n",
            "Requirement already satisfied: fastjsonschema>=2.15 in /usr/local/lib/python3.12/dist-packages (from nbformat>=5.3.0->jupyter-server<3,>=2.4.0->jupyterlab->antaress==1.1.8) (2.21.2)\n",
            "Requirement already satisfied: ptyprocess in /usr/local/lib/python3.12/dist-packages (from terminado>=0.8.3->jupyter-server<3,>=2.4.0->jupyterlab->antaress==1.1.8) (0.7.0)\n",
            "Requirement already satisfied: tinycss2<1.5,>=1.1.0 in /usr/local/lib/python3.12/dist-packages (from bleach[css]!=5.0.0->nbconvert>=6.4.4->jupyter-server<3,>=2.4.0->jupyterlab->antaress==1.1.8) (1.4.0)\n",
            "Requirement already satisfied: parso<0.9.0,>=0.8.4 in /usr/local/lib/python3.12/dist-packages (from jedi>=0.16->ipython>=7.23.1->ipykernel!=6.30.0,>=6.5.0->jupyterlab->antaress==1.1.8) (0.8.4)\n",
            "Requirement already satisfied: fqdn in /usr/local/lib/python3.12/dist-packages (from jsonschema[format-nongpl]>=4.18.0->jupyter-events>=0.11.0->jupyter-server<3,>=2.4.0->jupyterlab->antaress==1.1.8) (1.5.1)\n",
            "Requirement already satisfied: isoduration in /usr/local/lib/python3.12/dist-packages (from jsonschema[format-nongpl]>=4.18.0->jupyter-events>=0.11.0->jupyter-server<3,>=2.4.0->jupyterlab->antaress==1.1.8) (20.11.0)\n",
            "Requirement already satisfied: jsonpointer>1.13 in /usr/local/lib/python3.12/dist-packages (from jsonschema[format-nongpl]>=4.18.0->jupyter-events>=0.11.0->jupyter-server<3,>=2.4.0->jupyterlab->antaress==1.1.8) (3.0.0)\n",
            "Requirement already satisfied: rfc3987-syntax>=1.1.0 in /usr/local/lib/python3.12/dist-packages (from jsonschema[format-nongpl]>=4.18.0->jupyter-events>=0.11.0->jupyter-server<3,>=2.4.0->jupyterlab->antaress==1.1.8) (1.1.0)\n",
            "Requirement already satisfied: uri-template in /usr/local/lib/python3.12/dist-packages (from jsonschema[format-nongpl]>=4.18.0->jupyter-events>=0.11.0->jupyter-server<3,>=2.4.0->jupyterlab->antaress==1.1.8) (1.3.0)\n",
            "Requirement already satisfied: webcolors>=24.6.0 in /usr/local/lib/python3.12/dist-packages (from jsonschema[format-nongpl]>=4.18.0->jupyter-events>=0.11.0->jupyter-server<3,>=2.4.0->jupyterlab->antaress==1.1.8) (24.11.1)\n",
            "Requirement already satisfied: wcwidth in /usr/local/lib/python3.12/dist-packages (from prompt-toolkit!=3.0.0,!=3.0.1,<3.1.0,>=2.0.0->ipython>=7.23.1->ipykernel!=6.30.0,>=6.5.0->jupyterlab->antaress==1.1.8) (0.2.13)\n",
            "Requirement already satisfied: cryptography>=2.0 in /usr/local/lib/python3.12/dist-packages (from SecretStorage>=3.2->keyring>=15.0->astroquery>=0.3.10->barycorrpy->antaress==1.1.8) (43.0.3)\n",
            "Requirement already satisfied: cffi>=1.0.1 in /usr/local/lib/python3.12/dist-packages (from argon2-cffi-bindings->argon2-cffi>=21.1->jupyter-server<3,>=2.4.0->jupyterlab->antaress==1.1.8) (1.17.1)\n",
            "Requirement already satisfied: more-itertools in /usr/local/lib/python3.12/dist-packages (from jaraco.classes->keyring>=15.0->astroquery>=0.3.10->barycorrpy->antaress==1.1.8) (10.7.0)\n",
            "Requirement already satisfied: pycparser in /usr/local/lib/python3.12/dist-packages (from cffi>=1.0.1->argon2-cffi-bindings->argon2-cffi>=21.1->jupyter-server<3,>=2.4.0->jupyterlab->antaress==1.1.8) (2.22)\n",
            "Requirement already satisfied: lark>=1.2.2 in /usr/local/lib/python3.12/dist-packages (from rfc3987-syntax>=1.1.0->jsonschema[format-nongpl]>=4.18.0->jupyter-events>=0.11.0->jupyter-server<3,>=2.4.0->jupyterlab->antaress==1.1.8) (1.2.2)\n",
            "Requirement already satisfied: arrow>=0.15.0 in /usr/local/lib/python3.12/dist-packages (from isoduration->jsonschema[format-nongpl]>=4.18.0->jupyter-events>=0.11.0->jupyter-server<3,>=2.4.0->jupyterlab->antaress==1.1.8) (1.3.0)\n",
            "Requirement already satisfied: types-python-dateutil>=2.8.10 in /usr/local/lib/python3.12/dist-packages (from arrow>=0.15.0->isoduration->jsonschema[format-nongpl]>=4.18.0->jupyter-events>=0.11.0->jupyter-server<3,>=2.4.0->jupyterlab->antaress==1.1.8) (2.9.0.20250822)\n"
          ]
        },
        {
          "output_type": "stream",
          "name": "stderr",
          "text": [
            "W: Skipping acquire of configured file 'main/source/Sources' as repository 'https://r2u.stat.illinois.edu/ubuntu jammy InRelease' does not seem to provide it (sources.list entry misspelt?)\n",
            "ERROR: pip's dependency resolver does not currently take into account all the packages that are installed. This behaviour is the source of the following dependency conflicts.\n",
            "opencv-python-headless 4.12.0.88 requires numpy<2.3.0,>=2; python_version >= \"3.9\", but you have numpy 1.26.4 which is incompatible.\n",
            "opencv-contrib-python 4.12.0.88 requires numpy<2.3.0,>=2; python_version >= \"3.9\", but you have numpy 1.26.4 which is incompatible.\n",
            "datasets 4.0.0 requires dill<0.3.9,>=0.3.0, but you have dill 0.4.0 which is incompatible.\n",
            "datasets 4.0.0 requires multiprocess<0.70.17, but you have multiprocess 0.70.18 which is incompatible.\n",
            "opencv-python 4.12.0.88 requires numpy<2.3.0,>=2; python_version >= \"3.9\", but you have numpy 1.26.4 which is incompatible.\n",
            "thinc 8.3.6 requires numpy<3.0.0,>=2.0.0, but you have numpy 1.26.4 which is incompatible.\n",
            "tsfresh 0.21.0 requires scipy>=1.14.0; python_version >= \"3.10\", but you have scipy 1.12.0 which is incompatible.\n",
            "  Running command git clone --filter=blob:none --quiet https://gitlab.unige.ch/spice_dune/antaress.git /tmp/pip-req-build-zwzj955r\n",
            "  Running command git checkout -b active_region_branch --track origin/active_region_branch\n",
            "  Switched to a new branch 'active_region_branch'\n",
            "  Branch 'active_region_branch' set up to track remote branch 'active_region_branch' from 'origin'.\n"
          ]
        }
      ]
    },
    {
      "cell_type": "markdown",
      "source": [
        "## Create background file"
      ],
      "metadata": {
        "id": "QhskrKI_Eja7"
      }
    },
    {
      "cell_type": "code",
      "source": [
        "%%bash\n",
        "wget -O ANTARESS_nbook_bground.py https://raw.githubusercontent.com/SamMerc/MIT-Stellar-Contamination-Workshop---ANTARESS-demo/main/ANTARESS_nbook_bground.py"
      ],
      "metadata": {
        "id": "fv2Wxv0LEmWL",
        "colab": {
          "base_uri": "https://localhost:8080/"
        },
        "outputId": "06c73862-c3af-4e44-87ac-2fdf30adc3ba"
      },
      "execution_count": null,
      "outputs": [
        {
          "output_type": "stream",
          "name": "stderr",
          "text": [
            "--2025-08-23 23:08:05--  https://raw.githubusercontent.com/SamMerc/MIT-Stellar-Contamination-Workshop---ANTARESS-demo/main/ANTARESS_nbook_bground.py\n",
            "Resolving raw.githubusercontent.com (raw.githubusercontent.com)... 185.199.110.133, 185.199.108.133, 185.199.111.133, ...\n",
            "Connecting to raw.githubusercontent.com (raw.githubusercontent.com)|185.199.110.133|:443... connected.\n",
            "HTTP request sent, awaiting response... 200 OK\n",
            "Length: 50059 (49K) [text/plain]\n",
            "Saving to: ‘ANTARESS_nbook_bground.py’\n",
            "\n",
            "     0K .......... .......... .......... .......... ........  100% 3.55M=0.01s\n",
            "\n",
            "2025-08-23 23:08:06 (3.55 MB/s) - ‘ANTARESS_nbook_bground.py’ saved [50059/50059]\n",
            "\n"
          ]
        }
      ]
    },
    {
      "cell_type": "markdown",
      "source": [
        "## Import libraries"
      ],
      "metadata": {
        "id": "MWAsTAEXS7zw"
      }
    },
    {
      "cell_type": "code",
      "source": [
        "import ANTARESS_nbook_bground\n",
        "import os"
      ],
      "metadata": {
        "id": "5duirbYUS7Rr"
      },
      "execution_count": null,
      "outputs": []
    },
    {
      "cell_type": "markdown",
      "source": [
        "# Introduction\n",
        "\n",
        "This notebook allows you to run a simplified version of the ANTARESS workflow, for the following purpose:\n",
        "- generating a mock CCF dataset of a planet transiting a star with active regions (spots or faculae), as observed with a given spectrograph\n",
        "\n",
        "The main interest of including active regions in the construction of the mock dataset is to estimate the impact of various spot configurations on the extracted Rossiter-McLaughlin signature.\n",
        "\n",
        "To exploit the workflow to its full capabilities, run its executable with the [configuration files](https://www.astro.unige.ch/~bourriev/antaress/doc/html/Fixed_files/getting_started.html)."
      ],
      "metadata": {
        "id": "Yb2OXfSvJTEW"
      }
    },
    {
      "cell_type": "code",
      "source": [
        "input_nbook = ANTARESS_nbook_bground.init()\n",
        "input_nbook['type'] = 'mock'\n",
        "\n",
        "if not os.path.isdir('./content/Ongoing/'):os.mkdir('./content/Ongoing/')\n",
        "input_nbook['working_path'] = './content/Ongoing/'"
      ],
      "metadata": {
        "id": "DOgQ0FXVJOgD"
      },
      "execution_count": null,
      "outputs": []
    },
    {
      "cell_type": "markdown",
      "source": [
        "# System parameters\n",
        "\n",
        "**Parameters of the host star**\n",
        "\n",
        "Run this cell to define the host star.\n",
        "- `star_name` (string): Name of the star. Should not contain spaces/dashes.\n",
        "- `Rs` (float): Radius of the star, in $R_\\odot$.\n",
        "- `sysvel` (float): Systemic radial velocity, in km/s.\n",
        "- `vsini` (float): Projected stellar surface velocity, in km/s.\n",
        "- `istar` (float): Stellar inclination, in degrees.\n",
        "- `ld_u1` (float): First coefficient of the quadratic limb-darkening.\n",
        "- `ld_u2` (float): Second coefficient of the quadratic limb-darkening."
      ],
      "metadata": {
        "id": "v2-M0BHXJsJD"
      }
    },
    {
      "cell_type": "code",
      "source": [
        "input_nbook['par'].update({\n",
        "    'star_name' : 'Arda',\n",
        "    'Rs'        : 0.9,\n",
        "    'sysvel'    : 0.,\n",
        "    'vsini'     : 15.,\n",
        "    'istar'     : 90.,\n",
        "    'ld_u1'     : 0.2,\n",
        "    'ld_u2'     : 0.5,\n",
        "})\n",
        "ANTARESS_nbook_bground.init_star(input_nbook)"
      ],
      "metadata": {
        "id": "ZCmovz1pJuaJ"
      },
      "execution_count": null,
      "outputs": []
    },
    {
      "cell_type": "markdown",
      "source": [
        "**Parameters of transiting planet**\n",
        "\n",
        "Run this cell to set the transiting planet on which the RM analysis is applied.\n",
        "- `planet_name` (string): Name of the transiting planet. Should not contain spaces/dashes.\n",
        "- `period` (float): Orbital period, in days.\n",
        "- `T0` (float): Mid-transit time, in ${\\rm BJD}_{\\rm TBD}$.\n",
        "- `ecc` (float): Orbital eccentricity.\n",
        "- `long_per` (float): Longitude of periastron, in degrees. If the orbit is circular, fill in `90.`.\n",
        "- `Kstar` (float): RV semi-amplitude, in m/s.\n",
        "- `aRs` (float): Scaled separation $a/R_\\star$.\n",
        "- `incl` (float): Orbital inclination, in degrees.\n",
        "- `lambda` (float): Sky-projected spin-orbit angle, in degrees.\n",
        "- `RpRs` (float): Planet-to-star radius ratio $R_{\\rm p}/R_\\star$."
      ],
      "metadata": {
        "id": "_XrplQO7JwgZ"
      }
    },
    {
      "cell_type": "code",
      "source": [
        "input_nbook['par'].update({\n",
        "    'planet_name' : 'Valinor',\n",
        "    'period'      : 3.8,\n",
        "    'T0'          : 2457176.1,\n",
        "    'ecc'         : 0.,\n",
        "    'long_per'    : 90.,\n",
        "    'Kstar'       : 38.1,\n",
        "    'aRs'         : 12.0,\n",
        "    'incl'        : 89.,\n",
        "    'lambda'      : 50.,\n",
        "    'RpRs'        : 0.25\n",
        "})\n",
        "ANTARESS_nbook_bground.init_pl(input_nbook,'main')"
      ],
      "metadata": {
        "id": "-O1CZ-dPJyIt"
      },
      "execution_count": null,
      "outputs": []
    },
    {
      "cell_type": "markdown",
      "source": [
        "**Parameters of additional planets in the system**\n",
        "\n",
        "Run this cell to set additional planets, which will only contribute to the computation of the star Keplerian motion.\n",
        "\n",
        "The names and definitions of the parameters are the same as for the main planet (`aRs`, `incl`, `RpRs` are not required).\n",
        "\n",
        "Copy the cell to add further planets"
      ],
      "metadata": {
        "id": "e49QtgvGJ0GS"
      }
    },
    {
      "cell_type": "code",
      "source": [
        "input_nbook['par'].update({\n",
        "    'planet_name' : 'Numenor',\n",
        "    'period'      : 8.,\n",
        "    'T0'          : 2457176.2,\n",
        "    'ecc'         : 0.,\n",
        "    'long_per'    : 90.,\n",
        "    'Kstar'       : 20.\n",
        "})\n",
        "ANTARESS_nbook_bground.init_pl(input_nbook,'sec')"
      ],
      "metadata": {
        "id": "_NB5LpLbJ1YK"
      },
      "execution_count": null,
      "outputs": []
    },
    {
      "cell_type": "markdown",
      "source": [
        "# Mock dataset properties\n",
        "\n",
        "**Visit**\n",
        "\n",
        "Run this cell to define the mock visit. It must overlap with the transit of the `transiting planet`.\n",
        "- `instrument` (string): Instrument of the visit (e.g. `ESPRESSO`, `HARPS`...).\n",
        "- `night` (string): Night of the visit. It is preferred to use the standard format, i.e. `YYYYMMDD`.\n",
        "- `range` (list): Absolute time range of the visit, in BJD.\n",
        "- `nexp` (int): Number of exposures in the visit."
      ],
      "metadata": {
        "id": "BUdmrBUqJ4r_"
      }
    },
    {
      "cell_type": "code",
      "source": [
        "input_nbook['par'].update({\n",
        "    'instrument' : 'ESPRESSO',\n",
        "    'night'      : 'Night 1',\n",
        "    'range'      : [2457176.1 -3./24.,2457176.1 + 3./24.],\n",
        "    'nexp'       : 50,\n",
        "})\n",
        "ANTARESS_nbook_bground.add_vis(input_nbook,mock=True)"
      ],
      "metadata": {
        "id": "W5yTY-elJ8YB"
      },
      "execution_count": null,
      "outputs": []
    },
    {
      "cell_type": "markdown",
      "source": [
        "**Radial velocity table**\n",
        "\n",
        "Run this cell to set the radial velocity table over which CCFs are defined (in km/s, in the star rest frame).\n",
        "- `x_start` (float): start of the table.\n",
        "- `x_end` (float): end of the table.\n",
        "- `dx` (float): step of the table."
      ],
      "metadata": {
        "id": "VOTh2JCGKAlc"
      }
    },
    {
      "cell_type": "code",
      "source": [
        "input_nbook['par'].update({\n",
        "    'x_start' : -80.,\n",
        "    'x_end'   :  80.,\n",
        "    'dx'      :  0.8\n",
        "})\n",
        "ANTARESS_nbook_bground.set_mock_rv(input_nbook)"
      ],
      "metadata": {
        "id": "djY08wUeKBE6"
      },
      "execution_count": null,
      "outputs": []
    },
    {
      "cell_type": "markdown",
      "source": [
        "**Parameters of the main active region**\n",
        "\n",
        "Run this cell to define the main active region.\n",
        "- `ar_name` (string): Name of the active region. Should not contain spaces/dashes.\n",
        "- `lat` (float): Constant latitude of the active region, in degrees.\n",
        "- `ang` (float): Half-angular size, in degrees.\n",
        "- `Tc` (float): Time at which the active region is at longitude 0, in ${\\rm BJD}_{\\rm TBD}$.\n",
        "- `fctrst` (float): Flux level of the active region surface, relative to the quiet surface of the star. 0 = no emission, < 1 = dimmer than the quiet surface (i.e. a spot), > 1 = brighter than the quiet surface (i.e. a facula)\n",
        "- `ld_ar_u1` (float): First coefficient of the active region's quadratic limb-darkening.\n",
        "- `ld_ar_u2` (float): Second coefficient of the active region's quadratic limb-darkening."
      ],
      "metadata": {
        "id": "mHUJNMdFKFoq"
      }
    },
    {
      "cell_type": "code",
      "source": [
        "input_nbook['par'].update({\n",
        "    'ar_name'    : 'Laurelin',\n",
        "    'lat'        : 20.,\n",
        "    'ang'        : 15.,\n",
        "    'Tc'         : 2457176.0,\n",
        "    'fctrst'     : 0.5,\n",
        "    'ld_ar_u1'   : 0.2,\n",
        "    'ld_ar_u2'   : 0.5\n",
        "})\n",
        "ANTARESS_nbook_bground.init_ar(input_nbook,'main')"
      ],
      "metadata": {
        "id": "-pIJKREGKGIr"
      },
      "execution_count": null,
      "outputs": []
    },
    {
      "cell_type": "markdown",
      "source": [
        "**Parameters of additional active regions**\n",
        "\n",
        "Run this cell to set additional active regions.\n",
        "\n",
        "The names and definitions of the parameters are the same as for the main active region (`ld_ar_u1` and `ld_ar\n",
        "_u2` are not required as they are shared across active regions).\n",
        "\n",
        "Copy this cell to add further active region."
      ],
      "metadata": {
        "id": "YDnTMH_fKIk7"
      }
    },
    {
      "cell_type": "code",
      "source": [
        "input_nbook['par'].update({\n",
        "    'ar_name'    : 'Telperion',\n",
        "    'lat'          : -10.,\n",
        "    'ang'          : 20.,\n",
        "    'Tc'           : 2457176.2,\n",
        "})\n",
        "ANTARESS_nbook_bground.init_ar(input_nbook,'sec')"
      ],
      "metadata": {
        "id": "iYDW5ibgKKOK"
      },
      "execution_count": null,
      "outputs": []
    },
    {
      "cell_type": "markdown",
      "source": [
        "**Stellar line**\n",
        "\n",
        "Run this cell to set the absorption line used to tile the star.\n",
        "- `gamma` (float): systemic rv (in km/s).\n",
        "- `contrast` (float): intrinsic line constrast.\n",
        "- `FWHM` (float): intrinsic line full-width at half-maximum (in km/s)\n",
        "- `flux` (float): disk-integrated line continuum flux (number of counts received for an exposure time of 1 s).\n",
        "- `noise` (bool): set to True to randomly draw white noise for each CCF pixel, based on its count level (to increase the S/N, increase `flux`).\n",
        "\n",
        "Line is arbitrarily set to a Gaussian profile, centered in the star rest frame."
      ],
      "metadata": {
        "id": "D-TAzEDgKMQn"
      }
    },
    {
      "cell_type": "code",
      "source": [
        "input_nbook['par'].update({\n",
        "    'gamma'      : 10.,\n",
        "    'contrast'   : 0.7,\n",
        "    'FWHM'       : 2.5,\n",
        "    'flux'       : 800,\n",
        "    'noise'      : True,\n",
        "})\n",
        "ANTARESS_nbook_bground.set_mock_prof(input_nbook)"
      ],
      "metadata": {
        "id": "gouaqVNQKNxi"
      },
      "execution_count": null,
      "outputs": []
    },
    {
      "cell_type": "markdown",
      "source": [
        "# Processing and analysis for plot display.\n",
        "\n",
        "Run this cell to set up the processing and analysis modules. This has no impact on the generation of the mock dataset, but it is required for its display."
      ],
      "metadata": {
        "id": "M4HinxohKRAd"
      }
    },
    {
      "cell_type": "code",
      "source": [
        "ANTARESS_nbook_bground.save_system(input_nbook)\n",
        "ANTARESS_nbook_bground.ana_prof(input_nbook,'DI')\n",
        "ANTARESS_nbook_bground.set_sysvel(input_nbook)\n",
        "ANTARESS_nbook_bground.align_prof(input_nbook)\n",
        "ANTARESS_nbook_bground.flux_sc(input_nbook)\n",
        "ANTARESS_nbook_bground.DImast_weight(input_nbook)\n",
        "ANTARESS_nbook_bground.extract_diff(input_nbook)"
      ],
      "metadata": {
        "colab": {
          "base_uri": "https://localhost:8080/"
        },
        "id": "q1EgaleBKThC",
        "outputId": "cc6f6894-4eaa-4ba1-9681-df56b5d207f0"
      },
      "execution_count": null,
      "outputs": [
        {
          "output_type": "stream",
          "name": "stdout",
          "text": [
            "System and data stored in :  ./Ongoing/Arda/Valinor_Saved_data\n",
            "Plots stored in :  ./Ongoing/Arda/Valinor_Plots\n"
          ]
        }
      ]
    },
    {
      "cell_type": "markdown",
      "source": [
        "Run these cells to set up the plot display of your mock dataset (see at the end of the notebook)."
      ],
      "metadata": {
        "id": "254dA8rHKVDO"
      }
    },
    {
      "cell_type": "code",
      "source": [
        "ANTARESS_nbook_bground.plot_system(input_nbook)\n",
        "ANTARESS_nbook_bground.plot_prop(input_nbook,'DI')\n",
        "ANTARESS_nbook_bground.plot_ar(input_nbook)"
      ],
      "metadata": {
        "id": "TpWj4-zKKWZR"
      },
      "execution_count": null,
      "outputs": []
    },
    {
      "cell_type": "markdown",
      "source": [
        "**Disk-integrated CCF series**\n",
        "\n",
        "Uncomment `y_range` to adjust the flux range of the CCFs (vertical axis)"
      ],
      "metadata": {
        "id": "a7zuwTc8KYA8"
      }
    },
    {
      "cell_type": "code",
      "source": [
        "# input_nbook['par']['y_range'] = [2.8e5,3.55e5]\n",
        "ANTARESS_nbook_bground.plot_prof(input_nbook,'DI_prof')"
      ],
      "metadata": {
        "id": "oLF4Egf8KZfo"
      },
      "execution_count": null,
      "outputs": []
    },
    {
      "cell_type": "markdown",
      "source": [
        "**Differential stellar profiles**\n",
        "\n",
        "Uncomment `y_range` and `v_range` to adjust the flux range of the CCFs (vertical axis in 1D, color scale in 2D)"
      ],
      "metadata": {
        "id": "fYT2dt23Kd_J"
      }
    },
    {
      "cell_type": "code",
      "source": [
        "# input_nbook['par']['y_range'] = [0.5,1.2]\n",
        "ANTARESS_nbook_bground.plot_prof(input_nbook,'Diff_prof')\n",
        "# input_nbook['par']['v_range'] = [0.6,1.1]\n",
        "ANTARESS_nbook_bground.plot_map(input_nbook,'Diff_prof')"
      ],
      "metadata": {
        "id": "a2lh78P9KeWF"
      },
      "execution_count": null,
      "outputs": []
    },
    {
      "cell_type": "markdown",
      "source": [
        "# Running ANTARESS\n",
        "\n",
        "Run this cell to launch the ANTARESS workflow.\n",
        "\n",
        "The mock CCF profile series can then be retrieved under `working_path/Arda/Valinor_Saved_data/Processed_data/instrument_night_i.npz`"
      ],
      "metadata": {
        "id": "aDzOUx42KhZL"
      }
    },
    {
      "cell_type": "code",
      "source": [
        "from antaress.ANTARESS_launch.ANTARESS_launcher import ANTARESS_launcher\n",
        "ANTARESS_launcher(working_path=input_nbook['working_path'], nbook_dic = input_nbook, exec_comm=False)"
      ],
      "metadata": {
        "colab": {
          "base_uri": "https://localhost:8080/"
        },
        "id": "ArP8DMypKk8A",
        "outputId": "99a50675-72d4-49c1-b33d-b5ca54b8e351"
      },
      "execution_count": null,
      "outputs": [
        {
          "output_type": "stream",
          "name": "stderr",
          "text": [
            "2025-08-23 23:08:51,924 - WARNING - File .dacerc not found. You are requesting data in public mode. To change this behaviour, create a .dacerc file in your home directory and fill it with your API key. More infos on https://dace.unige.ch\n",
            "WARNING:dace-da32e2cc53:File .dacerc not found. You are requesting data in public mode. To change this behaviour, create a .dacerc file in your home directory and fill it with your API key. More infos on https://dace.unige.ch\n"
          ]
        },
        {
          "output_type": "stream",
          "name": "stdout",
          "text": [
            "****************************************\n",
            "Launching ANTARESS\n",
            "****************************************\n",
            "\n",
            "Multi-threading: 2 threads available\n",
            "Running with artificial data\n",
            "Covariances discounted\n",
            "WARNING: all datasets in CCF mode, automatic disabling of spectral detrending.\n",
            "Weight contributors :\n",
            "  On :(DI master) \n",
            "  Off :(Calibration) (Tellurics) \n",
            "Study of: Valinor\n",
            "Accounting for Keplerian motion from all planets\n",
            "Initializing planet Valinor\n",
            "  Transiting object\n",
            "  Automatic definition of T14[Valinor]=2.99 h\n",
            "Initializing planet Numenor\n",
            "Automatic activation of \"gen_dic[\"theoPlOcc\"]\"\n",
            "WARNING : it is recommended to oversample planet-occulted regions using the field theo_dic[\"n_oversamp\"], currently not set for transiting planet Valinor\n",
            "Default nsub_Dpl[Valinor]=124\n",
            "Study of: Laurelin, Telperion\n",
            "Active regions are simulated\n",
            "WARNING: Oversampling factor for active region Laurelin is not defined. Default to 1.\n",
            "WARNING: Oversampling factor for active region Telperion is not defined. Default to 1.\n",
            "Default nsub_Dar[Laurelin]=128\n",
            "Default nsub_Dar[Telperion]=169\n",
            "\n",
            "-----------------------\n",
            "Processing instrument : ESPRESSO\n",
            "-----------------------\n",
            "  Reading and initializing CCFs\n",
            "   > Data resampled on a common spectral table\n",
            "         Calculating data\n",
            "         Initializing visit \"Night 1\"\n",
            "           Building exposures ... \n",
            "WARNING : no occulted regions were computed over the stellar surface during in-transit exposure i_in = 12. This typically occurs for exposures partially overlapping with the transit windows when no oversampling is enabled (see theo_dic[\"n_oversamp\"])\n",
            "WARNING : no occulted regions were computed over the stellar surface during in-transit exposure i_in = 37. This typically occurs for exposures partially overlapping with the transit windows when no oversampling is enabled (see theo_dic[\"n_oversamp\"])\n",
            "         Processing visit Night 1\n",
            "           All exposures share a common spectral table\n",
            "           50 exposures\n",
            "  -----------------\n",
            "  Processing visit: Night 1\n",
            "  -----------------\n",
            "   > 50 exposures\n",
            "         26 in-transit\n",
            "         24 out-of-transit (12 pre / 12 post)\n",
            "         WARNING: automatic definition of continuum ranges for DI profiles. Define them for a proper analysis.\n",
            "         WARNING: automatic definition of fitted ranges for DI profiles. Define them for a proper analysis.\n",
            "         WARNING: automatic definition of continuum ranges for Diff profiles. Define them for a proper analysis.\n",
            "         WARNING: automatic definition of fitted ranges for Diff profiles. Define them for a proper analysis.\n",
            "   > Calculating properties of planet-occulted regions\n",
            "         Calculating data\n",
            "WARNING : no occulted regions were computed over the stellar surface during in-transit exposure i_in = 12. This typically occurs for exposures partially overlapping with the transit windows when no oversampling is enabled (see theo_dic[\"n_oversamp\"])\n",
            "WARNING : no occulted regions were computed over the stellar surface during in-transit exposure i_in = 37. This typically occurs for exposures partially overlapping with the transit windows when no oversampling is enabled (see theo_dic[\"n_oversamp\"])\n",
            "   > Analyzing disk-integrated stellar profiles\n",
            "         Calculating data\n",
            "         Systemic rv from time-series = 0.193456 +- 1.158338e-02 km/s\n",
            "   > Aligning disk-integrated profiles\n",
            "         Aligning with Keplerian model\n",
            "         Calculating data\n",
            "   > Broadband flux scaling\n",
            "         Using simulated light curve\n",
            "         Global scaling and light curve scaling\n",
            "         No scaling is applied. Computing light curve scaling and setting global scaling to 1.\n",
            "         Calculating data\n",
            "   > Calculating master stellar spectrum\n",
            "         Calculating data\n",
            "         Reference planet for Night 1 binning set to Valinor\n",
            "   > Extracting differential profiles\n",
            "         Calculating data\n",
            "\n",
            "-----------------------------------\n",
            "Plots\n",
            "-----------------------------------\n",
            "Numerical T14[Valinor]=2.987347 h\n",
            "Numerical Kp_orb=143.77 km/s (Mstar = 1.171 Msun)\n",
            "-----------------------------------\n",
            "+ Individual disk-integrated profiles\n",
            "   - Instrument : ESPRESSO\n",
            "     - Visit : Night 1\n",
            "           Processing and plotting exposures\n",
            "-----------------------------------\n",
            "+ Properties of raw data and disk-integrated profiles\n",
            "   ---------------\n",
            "   > RV\n",
            "     ESPRESSO\n",
            "      Night 1\n",
            "-----------------------------------\n",
            "+ Plotting planetary system architecture\n",
            "   + With mock dataset active region properties\n",
            "\n",
            "Total processing time: 1748 seconds\n",
            "End of workflow\n"
          ]
        }
      ]
    },
    {
      "cell_type": "markdown",
      "source": [
        "# Plot display"
      ],
      "metadata": {
        "id": "2918W7LqKnfN"
      }
    },
    {
      "cell_type": "code",
      "source": [
        "from IPython.display import Image\n",
        "from IPython.core.display import HTML"
      ],
      "metadata": {
        "id": "Zb7Wv4MlKqdd"
      },
      "execution_count": null,
      "outputs": []
    },
    {
      "cell_type": "markdown",
      "source": [
        "Run the cells below to show saved plots.\n",
        "\n",
        "**Planetary system architecture**\n",
        "\n",
        "This plot shows the system along the line-of-sight, to scale. The star is colored as a function of its surface radial velocity field, and the planetary orbit displayed as a green line is controlled by the system values you defined. The spots are shown as grey grids, with their shade controlled by the contrast you defined. The spots' orbit is displayed with a lime green line. The black and green arrow are the sky-projected stellar spin and orbital normal. Many more options are available through the plotting configuration file."
      ],
      "metadata": {
        "id": "B1HyppJVKrMB"
      }
    },
    {
      "cell_type": "code",
      "source": [
        "Image(filename = input_nbook['plot_path']+'System_view/System.gif', width=800)"
      ],
      "metadata": {
        "colab": {
          "base_uri": "https://localhost:8080/",
          "height": 282
        },
        "id": "Lbp8z9pFKupj",
        "outputId": "aeac1fe8-71de-4c6e-a359-6945071d5786"
      },
      "execution_count": null,
      "outputs": [
        {
          "output_type": "error",
          "ename": "FileNotFoundError",
          "evalue": "[Errno 2] No such file or directory: './Ongoing/Arda/Valinor_Plots/System_view/System.gif'",
          "traceback": [
            "\u001b[0;31m---------------------------------------------------------------------------\u001b[0m",
            "\u001b[0;31mFileNotFoundError\u001b[0m                         Traceback (most recent call last)",
            "\u001b[0;32m/tmp/ipython-input-2285791136.py\u001b[0m in \u001b[0;36m<cell line: 0>\u001b[0;34m()\u001b[0m\n\u001b[0;32m----> 1\u001b[0;31m \u001b[0mImage\u001b[0m\u001b[0;34m(\u001b[0m\u001b[0mfilename\u001b[0m \u001b[0;34m=\u001b[0m \u001b[0minput_nbook\u001b[0m\u001b[0;34m[\u001b[0m\u001b[0;34m'plot_path'\u001b[0m\u001b[0;34m]\u001b[0m\u001b[0;34m+\u001b[0m\u001b[0;34m'System_view/System.gif'\u001b[0m\u001b[0;34m,\u001b[0m \u001b[0mwidth\u001b[0m\u001b[0;34m=\u001b[0m\u001b[0;36m800\u001b[0m\u001b[0;34m)\u001b[0m\u001b[0;34m\u001b[0m\u001b[0;34m\u001b[0m\u001b[0m\n\u001b[0m",
            "\u001b[0;32m/usr/local/lib/python3.12/dist-packages/IPython/core/display.py\u001b[0m in \u001b[0;36m__init__\u001b[0;34m(self, data, url, filename, format, embed, width, height, retina, unconfined, metadata)\u001b[0m\n\u001b[1;32m   1229\u001b[0m         \u001b[0mself\u001b[0m\u001b[0;34m.\u001b[0m\u001b[0mretina\u001b[0m \u001b[0;34m=\u001b[0m \u001b[0mretina\u001b[0m\u001b[0;34m\u001b[0m\u001b[0;34m\u001b[0m\u001b[0m\n\u001b[1;32m   1230\u001b[0m         \u001b[0mself\u001b[0m\u001b[0;34m.\u001b[0m\u001b[0munconfined\u001b[0m \u001b[0;34m=\u001b[0m \u001b[0munconfined\u001b[0m\u001b[0;34m\u001b[0m\u001b[0;34m\u001b[0m\u001b[0m\n\u001b[0;32m-> 1231\u001b[0;31m         super(Image, self).__init__(data=data, url=url, filename=filename, \n\u001b[0m\u001b[1;32m   1232\u001b[0m                 metadata=metadata)\n\u001b[1;32m   1233\u001b[0m \u001b[0;34m\u001b[0m\u001b[0m\n",
            "\u001b[0;32m/usr/local/lib/python3.12/dist-packages/IPython/core/display.py\u001b[0m in \u001b[0;36m__init__\u001b[0;34m(self, data, url, filename, metadata)\u001b[0m\n\u001b[1;32m    635\u001b[0m             \u001b[0mself\u001b[0m\u001b[0;34m.\u001b[0m\u001b[0mmetadata\u001b[0m \u001b[0;34m=\u001b[0m \u001b[0;34m{\u001b[0m\u001b[0;34m}\u001b[0m\u001b[0;34m\u001b[0m\u001b[0;34m\u001b[0m\u001b[0m\n\u001b[1;32m    636\u001b[0m \u001b[0;34m\u001b[0m\u001b[0m\n\u001b[0;32m--> 637\u001b[0;31m         \u001b[0mself\u001b[0m\u001b[0;34m.\u001b[0m\u001b[0mreload\u001b[0m\u001b[0;34m(\u001b[0m\u001b[0;34m)\u001b[0m\u001b[0;34m\u001b[0m\u001b[0;34m\u001b[0m\u001b[0m\n\u001b[0m\u001b[1;32m    638\u001b[0m         \u001b[0mself\u001b[0m\u001b[0;34m.\u001b[0m\u001b[0m_check_data\u001b[0m\u001b[0;34m(\u001b[0m\u001b[0;34m)\u001b[0m\u001b[0;34m\u001b[0m\u001b[0;34m\u001b[0m\u001b[0m\n\u001b[1;32m    639\u001b[0m \u001b[0;34m\u001b[0m\u001b[0m\n",
            "\u001b[0;32m/usr/local/lib/python3.12/dist-packages/IPython/core/display.py\u001b[0m in \u001b[0;36mreload\u001b[0;34m(self)\u001b[0m\n\u001b[1;32m   1261\u001b[0m         \u001b[0;34m\"\"\"Reload the raw data from file or URL.\"\"\"\u001b[0m\u001b[0;34m\u001b[0m\u001b[0;34m\u001b[0m\u001b[0m\n\u001b[1;32m   1262\u001b[0m         \u001b[0;32mif\u001b[0m \u001b[0mself\u001b[0m\u001b[0;34m.\u001b[0m\u001b[0membed\u001b[0m\u001b[0;34m:\u001b[0m\u001b[0;34m\u001b[0m\u001b[0;34m\u001b[0m\u001b[0m\n\u001b[0;32m-> 1263\u001b[0;31m             \u001b[0msuper\u001b[0m\u001b[0;34m(\u001b[0m\u001b[0mImage\u001b[0m\u001b[0;34m,\u001b[0m\u001b[0mself\u001b[0m\u001b[0;34m)\u001b[0m\u001b[0;34m.\u001b[0m\u001b[0mreload\u001b[0m\u001b[0;34m(\u001b[0m\u001b[0;34m)\u001b[0m\u001b[0;34m\u001b[0m\u001b[0;34m\u001b[0m\u001b[0m\n\u001b[0m\u001b[1;32m   1264\u001b[0m             \u001b[0;32mif\u001b[0m \u001b[0mself\u001b[0m\u001b[0;34m.\u001b[0m\u001b[0mretina\u001b[0m\u001b[0;34m:\u001b[0m\u001b[0;34m\u001b[0m\u001b[0;34m\u001b[0m\u001b[0m\n\u001b[1;32m   1265\u001b[0m                 \u001b[0mself\u001b[0m\u001b[0;34m.\u001b[0m\u001b[0m_retina_shape\u001b[0m\u001b[0;34m(\u001b[0m\u001b[0;34m)\u001b[0m\u001b[0;34m\u001b[0m\u001b[0;34m\u001b[0m\u001b[0m\n",
            "\u001b[0;32m/usr/local/lib/python3.12/dist-packages/IPython/core/display.py\u001b[0m in \u001b[0;36mreload\u001b[0;34m(self)\u001b[0m\n\u001b[1;32m    660\u001b[0m         \u001b[0;34m\"\"\"Reload the raw data from file or URL.\"\"\"\u001b[0m\u001b[0;34m\u001b[0m\u001b[0;34m\u001b[0m\u001b[0m\n\u001b[1;32m    661\u001b[0m         \u001b[0;32mif\u001b[0m \u001b[0mself\u001b[0m\u001b[0;34m.\u001b[0m\u001b[0mfilename\u001b[0m \u001b[0;32mis\u001b[0m \u001b[0;32mnot\u001b[0m \u001b[0;32mNone\u001b[0m\u001b[0;34m:\u001b[0m\u001b[0;34m\u001b[0m\u001b[0;34m\u001b[0m\u001b[0m\n\u001b[0;32m--> 662\u001b[0;31m             \u001b[0;32mwith\u001b[0m \u001b[0mopen\u001b[0m\u001b[0;34m(\u001b[0m\u001b[0mself\u001b[0m\u001b[0;34m.\u001b[0m\u001b[0mfilename\u001b[0m\u001b[0;34m,\u001b[0m \u001b[0mself\u001b[0m\u001b[0;34m.\u001b[0m\u001b[0m_read_flags\u001b[0m\u001b[0;34m)\u001b[0m \u001b[0;32mas\u001b[0m \u001b[0mf\u001b[0m\u001b[0;34m:\u001b[0m\u001b[0;34m\u001b[0m\u001b[0;34m\u001b[0m\u001b[0m\n\u001b[0m\u001b[1;32m    663\u001b[0m                 \u001b[0mself\u001b[0m\u001b[0;34m.\u001b[0m\u001b[0mdata\u001b[0m \u001b[0;34m=\u001b[0m \u001b[0mf\u001b[0m\u001b[0;34m.\u001b[0m\u001b[0mread\u001b[0m\u001b[0;34m(\u001b[0m\u001b[0;34m)\u001b[0m\u001b[0;34m\u001b[0m\u001b[0;34m\u001b[0m\u001b[0m\n\u001b[1;32m    664\u001b[0m         \u001b[0;32melif\u001b[0m \u001b[0mself\u001b[0m\u001b[0;34m.\u001b[0m\u001b[0murl\u001b[0m \u001b[0;32mis\u001b[0m \u001b[0;32mnot\u001b[0m \u001b[0;32mNone\u001b[0m\u001b[0;34m:\u001b[0m\u001b[0;34m\u001b[0m\u001b[0;34m\u001b[0m\u001b[0m\n",
            "\u001b[0;31mFileNotFoundError\u001b[0m: [Errno 2] No such file or directory: './Ongoing/Arda/Valinor_Plots/System_view/System.gif'"
          ]
        }
      ]
    },
    {
      "cell_type": "markdown",
      "source": [
        "**Disk-integrated CCF series**\n",
        "\n",
        "This plot shows the series of mock disk-integrated CCFs (blue profiles). Depending on the system properties you defined, you will see by eye the anomalous `bumps` induced by the occultation of local stellar lines by the planet and spots.\n",
        "\n",
        "The dashed black profiles are best-fit Gaussian models to each CCF, as is usually used to derive RVs."
      ],
      "metadata": {
        "id": "eK91a0oYKyhJ"
      }
    },
    {
      "cell_type": "code",
      "source": [
        "Image(filename = input_nbook['plot_path']+'DI_data/'+input_nbook['par']['instrument']+'_'+input_nbook['par']['night']+'_Indiv/Data/CCF/phase.gif')"
      ],
      "metadata": {
        "colab": {
          "base_uri": "https://localhost:8080/",
          "height": 299
        },
        "id": "12Oq_GpVKz4h",
        "outputId": "e2abcf1e-d7cc-4c56-eafe-a50f657f4c46"
      },
      "execution_count": null,
      "outputs": [
        {
          "output_type": "error",
          "ename": "FileNotFoundError",
          "evalue": "[Errno 2] No such file or directory: './Ongoing/Arda/Valinor_Plots/DI_data/ESPRESSO_Night 1_Indiv/Data/CCF/phase.gif'",
          "traceback": [
            "\u001b[0;31m---------------------------------------------------------------------------\u001b[0m",
            "\u001b[0;31mFileNotFoundError\u001b[0m                         Traceback (most recent call last)",
            "\u001b[0;32m/tmp/ipython-input-3490570791.py\u001b[0m in \u001b[0;36m<cell line: 0>\u001b[0;34m()\u001b[0m\n\u001b[0;32m----> 1\u001b[0;31m \u001b[0mImage\u001b[0m\u001b[0;34m(\u001b[0m\u001b[0mfilename\u001b[0m \u001b[0;34m=\u001b[0m \u001b[0minput_nbook\u001b[0m\u001b[0;34m[\u001b[0m\u001b[0;34m'plot_path'\u001b[0m\u001b[0;34m]\u001b[0m\u001b[0;34m+\u001b[0m\u001b[0;34m'DI_data/'\u001b[0m\u001b[0;34m+\u001b[0m\u001b[0minput_nbook\u001b[0m\u001b[0;34m[\u001b[0m\u001b[0;34m'par'\u001b[0m\u001b[0;34m]\u001b[0m\u001b[0;34m[\u001b[0m\u001b[0;34m'instrument'\u001b[0m\u001b[0;34m]\u001b[0m\u001b[0;34m+\u001b[0m\u001b[0;34m'_'\u001b[0m\u001b[0;34m+\u001b[0m\u001b[0minput_nbook\u001b[0m\u001b[0;34m[\u001b[0m\u001b[0;34m'par'\u001b[0m\u001b[0;34m]\u001b[0m\u001b[0;34m[\u001b[0m\u001b[0;34m'night'\u001b[0m\u001b[0;34m]\u001b[0m\u001b[0;34m+\u001b[0m\u001b[0;34m'_Indiv/Data/CCF/phase.gif'\u001b[0m\u001b[0;34m)\u001b[0m\u001b[0;34m\u001b[0m\u001b[0;34m\u001b[0m\u001b[0m\n\u001b[0m",
            "\u001b[0;32m/usr/local/lib/python3.12/dist-packages/IPython/core/display.py\u001b[0m in \u001b[0;36m__init__\u001b[0;34m(self, data, url, filename, format, embed, width, height, retina, unconfined, metadata)\u001b[0m\n\u001b[1;32m   1229\u001b[0m         \u001b[0mself\u001b[0m\u001b[0;34m.\u001b[0m\u001b[0mretina\u001b[0m \u001b[0;34m=\u001b[0m \u001b[0mretina\u001b[0m\u001b[0;34m\u001b[0m\u001b[0;34m\u001b[0m\u001b[0m\n\u001b[1;32m   1230\u001b[0m         \u001b[0mself\u001b[0m\u001b[0;34m.\u001b[0m\u001b[0munconfined\u001b[0m \u001b[0;34m=\u001b[0m \u001b[0munconfined\u001b[0m\u001b[0;34m\u001b[0m\u001b[0;34m\u001b[0m\u001b[0m\n\u001b[0;32m-> 1231\u001b[0;31m         super(Image, self).__init__(data=data, url=url, filename=filename, \n\u001b[0m\u001b[1;32m   1232\u001b[0m                 metadata=metadata)\n\u001b[1;32m   1233\u001b[0m \u001b[0;34m\u001b[0m\u001b[0m\n",
            "\u001b[0;32m/usr/local/lib/python3.12/dist-packages/IPython/core/display.py\u001b[0m in \u001b[0;36m__init__\u001b[0;34m(self, data, url, filename, metadata)\u001b[0m\n\u001b[1;32m    635\u001b[0m             \u001b[0mself\u001b[0m\u001b[0;34m.\u001b[0m\u001b[0mmetadata\u001b[0m \u001b[0;34m=\u001b[0m \u001b[0;34m{\u001b[0m\u001b[0;34m}\u001b[0m\u001b[0;34m\u001b[0m\u001b[0;34m\u001b[0m\u001b[0m\n\u001b[1;32m    636\u001b[0m \u001b[0;34m\u001b[0m\u001b[0m\n\u001b[0;32m--> 637\u001b[0;31m         \u001b[0mself\u001b[0m\u001b[0;34m.\u001b[0m\u001b[0mreload\u001b[0m\u001b[0;34m(\u001b[0m\u001b[0;34m)\u001b[0m\u001b[0;34m\u001b[0m\u001b[0;34m\u001b[0m\u001b[0m\n\u001b[0m\u001b[1;32m    638\u001b[0m         \u001b[0mself\u001b[0m\u001b[0;34m.\u001b[0m\u001b[0m_check_data\u001b[0m\u001b[0;34m(\u001b[0m\u001b[0;34m)\u001b[0m\u001b[0;34m\u001b[0m\u001b[0;34m\u001b[0m\u001b[0m\n\u001b[1;32m    639\u001b[0m \u001b[0;34m\u001b[0m\u001b[0m\n",
            "\u001b[0;32m/usr/local/lib/python3.12/dist-packages/IPython/core/display.py\u001b[0m in \u001b[0;36mreload\u001b[0;34m(self)\u001b[0m\n\u001b[1;32m   1261\u001b[0m         \u001b[0;34m\"\"\"Reload the raw data from file or URL.\"\"\"\u001b[0m\u001b[0;34m\u001b[0m\u001b[0;34m\u001b[0m\u001b[0m\n\u001b[1;32m   1262\u001b[0m         \u001b[0;32mif\u001b[0m \u001b[0mself\u001b[0m\u001b[0;34m.\u001b[0m\u001b[0membed\u001b[0m\u001b[0;34m:\u001b[0m\u001b[0;34m\u001b[0m\u001b[0;34m\u001b[0m\u001b[0m\n\u001b[0;32m-> 1263\u001b[0;31m             \u001b[0msuper\u001b[0m\u001b[0;34m(\u001b[0m\u001b[0mImage\u001b[0m\u001b[0;34m,\u001b[0m\u001b[0mself\u001b[0m\u001b[0;34m)\u001b[0m\u001b[0;34m.\u001b[0m\u001b[0mreload\u001b[0m\u001b[0;34m(\u001b[0m\u001b[0;34m)\u001b[0m\u001b[0;34m\u001b[0m\u001b[0;34m\u001b[0m\u001b[0m\n\u001b[0m\u001b[1;32m   1264\u001b[0m             \u001b[0;32mif\u001b[0m \u001b[0mself\u001b[0m\u001b[0;34m.\u001b[0m\u001b[0mretina\u001b[0m\u001b[0;34m:\u001b[0m\u001b[0;34m\u001b[0m\u001b[0;34m\u001b[0m\u001b[0m\n\u001b[1;32m   1265\u001b[0m                 \u001b[0mself\u001b[0m\u001b[0;34m.\u001b[0m\u001b[0m_retina_shape\u001b[0m\u001b[0;34m(\u001b[0m\u001b[0;34m)\u001b[0m\u001b[0;34m\u001b[0m\u001b[0;34m\u001b[0m\u001b[0m\n",
            "\u001b[0;32m/usr/local/lib/python3.12/dist-packages/IPython/core/display.py\u001b[0m in \u001b[0;36mreload\u001b[0;34m(self)\u001b[0m\n\u001b[1;32m    660\u001b[0m         \u001b[0;34m\"\"\"Reload the raw data from file or URL.\"\"\"\u001b[0m\u001b[0;34m\u001b[0m\u001b[0;34m\u001b[0m\u001b[0m\n\u001b[1;32m    661\u001b[0m         \u001b[0;32mif\u001b[0m \u001b[0mself\u001b[0m\u001b[0;34m.\u001b[0m\u001b[0mfilename\u001b[0m \u001b[0;32mis\u001b[0m \u001b[0;32mnot\u001b[0m \u001b[0;32mNone\u001b[0m\u001b[0;34m:\u001b[0m\u001b[0;34m\u001b[0m\u001b[0;34m\u001b[0m\u001b[0m\n\u001b[0;32m--> 662\u001b[0;31m             \u001b[0;32mwith\u001b[0m \u001b[0mopen\u001b[0m\u001b[0;34m(\u001b[0m\u001b[0mself\u001b[0m\u001b[0;34m.\u001b[0m\u001b[0mfilename\u001b[0m\u001b[0;34m,\u001b[0m \u001b[0mself\u001b[0m\u001b[0;34m.\u001b[0m\u001b[0m_read_flags\u001b[0m\u001b[0;34m)\u001b[0m \u001b[0;32mas\u001b[0m \u001b[0mf\u001b[0m\u001b[0;34m:\u001b[0m\u001b[0;34m\u001b[0m\u001b[0;34m\u001b[0m\u001b[0m\n\u001b[0m\u001b[1;32m    663\u001b[0m                 \u001b[0mself\u001b[0m\u001b[0;34m.\u001b[0m\u001b[0mdata\u001b[0m \u001b[0;34m=\u001b[0m \u001b[0mf\u001b[0m\u001b[0;34m.\u001b[0m\u001b[0mread\u001b[0m\u001b[0;34m(\u001b[0m\u001b[0;34m)\u001b[0m\u001b[0;34m\u001b[0m\u001b[0;34m\u001b[0m\u001b[0m\n\u001b[1;32m    664\u001b[0m         \u001b[0;32melif\u001b[0m \u001b[0mself\u001b[0m\u001b[0;34m.\u001b[0m\u001b[0murl\u001b[0m \u001b[0;32mis\u001b[0m \u001b[0;32mnot\u001b[0m \u001b[0;32mNone\u001b[0m\u001b[0;34m:\u001b[0m\u001b[0;34m\u001b[0m\u001b[0;34m\u001b[0m\u001b[0m\n",
            "\u001b[0;31mFileNotFoundError\u001b[0m: [Errno 2] No such file or directory: './Ongoing/Arda/Valinor_Plots/DI_data/ESPRESSO_Night 1_Indiv/Data/CCF/phase.gif'"
          ]
        }
      ]
    },
    {
      "cell_type": "markdown",
      "source": [
        "**Disk-integrated RV series**\n",
        "\n",
        "This plot shows the RV series derived from the fits to the mock CCF series.\n",
        "\n",
        "If only planets were present, we would expect the out-of-transit RVs (contacts shown as dashed black lines) to trace the Keplerian motion of your mock star with respect to the solar system barycenter (the Keplerian model is plotted as a blue curve), while the in-transit RVs would present the classical RM anomaly induced by the local occultation of stellar lines by the planet.\n",
        "\n",
        "Spots induce additional distortions in the in- and out-of-transit disk-integrated CCFs, complicating the interpretation of fitted RV values. Indeed, it becomes challenging to use the 'Classical' RM technique, which relies on analyzing these disk-integrated RV series, for the extraction of planetary orbital architectures as the spot and planet contributions are intertwined."
      ],
      "metadata": {
        "id": "ivJblfePK2DL"
      }
    },
    {
      "cell_type": "code",
      "source": [
        "Image(filename = input_nbook['plot_path']+'DI_prop/rv_phase.png')"
      ],
      "metadata": {
        "colab": {
          "base_uri": "https://localhost:8080/",
          "height": 282
        },
        "id": "_DKifckdK35Z",
        "outputId": "85424640-1ea1-441c-ad27-09ef593e9927"
      },
      "execution_count": null,
      "outputs": [
        {
          "output_type": "error",
          "ename": "FileNotFoundError",
          "evalue": "[Errno 2] No such file or directory: './Ongoing/Arda/Valinor_Plots/DI_prop/rv_phase.png'",
          "traceback": [
            "\u001b[0;31m---------------------------------------------------------------------------\u001b[0m",
            "\u001b[0;31mFileNotFoundError\u001b[0m                         Traceback (most recent call last)",
            "\u001b[0;32m/tmp/ipython-input-4192231441.py\u001b[0m in \u001b[0;36m<cell line: 0>\u001b[0;34m()\u001b[0m\n\u001b[0;32m----> 1\u001b[0;31m \u001b[0mImage\u001b[0m\u001b[0;34m(\u001b[0m\u001b[0mfilename\u001b[0m \u001b[0;34m=\u001b[0m \u001b[0minput_nbook\u001b[0m\u001b[0;34m[\u001b[0m\u001b[0;34m'plot_path'\u001b[0m\u001b[0;34m]\u001b[0m\u001b[0;34m+\u001b[0m\u001b[0;34m'DI_prop/rv_phase.png'\u001b[0m\u001b[0;34m)\u001b[0m\u001b[0;34m\u001b[0m\u001b[0;34m\u001b[0m\u001b[0m\n\u001b[0m",
            "\u001b[0;32m/usr/local/lib/python3.12/dist-packages/IPython/core/display.py\u001b[0m in \u001b[0;36m__init__\u001b[0;34m(self, data, url, filename, format, embed, width, height, retina, unconfined, metadata)\u001b[0m\n\u001b[1;32m   1229\u001b[0m         \u001b[0mself\u001b[0m\u001b[0;34m.\u001b[0m\u001b[0mretina\u001b[0m \u001b[0;34m=\u001b[0m \u001b[0mretina\u001b[0m\u001b[0;34m\u001b[0m\u001b[0;34m\u001b[0m\u001b[0m\n\u001b[1;32m   1230\u001b[0m         \u001b[0mself\u001b[0m\u001b[0;34m.\u001b[0m\u001b[0munconfined\u001b[0m \u001b[0;34m=\u001b[0m \u001b[0munconfined\u001b[0m\u001b[0;34m\u001b[0m\u001b[0;34m\u001b[0m\u001b[0m\n\u001b[0;32m-> 1231\u001b[0;31m         super(Image, self).__init__(data=data, url=url, filename=filename, \n\u001b[0m\u001b[1;32m   1232\u001b[0m                 metadata=metadata)\n\u001b[1;32m   1233\u001b[0m \u001b[0;34m\u001b[0m\u001b[0m\n",
            "\u001b[0;32m/usr/local/lib/python3.12/dist-packages/IPython/core/display.py\u001b[0m in \u001b[0;36m__init__\u001b[0;34m(self, data, url, filename, metadata)\u001b[0m\n\u001b[1;32m    635\u001b[0m             \u001b[0mself\u001b[0m\u001b[0;34m.\u001b[0m\u001b[0mmetadata\u001b[0m \u001b[0;34m=\u001b[0m \u001b[0;34m{\u001b[0m\u001b[0;34m}\u001b[0m\u001b[0;34m\u001b[0m\u001b[0;34m\u001b[0m\u001b[0m\n\u001b[1;32m    636\u001b[0m \u001b[0;34m\u001b[0m\u001b[0m\n\u001b[0;32m--> 637\u001b[0;31m         \u001b[0mself\u001b[0m\u001b[0;34m.\u001b[0m\u001b[0mreload\u001b[0m\u001b[0;34m(\u001b[0m\u001b[0;34m)\u001b[0m\u001b[0;34m\u001b[0m\u001b[0;34m\u001b[0m\u001b[0m\n\u001b[0m\u001b[1;32m    638\u001b[0m         \u001b[0mself\u001b[0m\u001b[0;34m.\u001b[0m\u001b[0m_check_data\u001b[0m\u001b[0;34m(\u001b[0m\u001b[0;34m)\u001b[0m\u001b[0;34m\u001b[0m\u001b[0;34m\u001b[0m\u001b[0m\n\u001b[1;32m    639\u001b[0m \u001b[0;34m\u001b[0m\u001b[0m\n",
            "\u001b[0;32m/usr/local/lib/python3.12/dist-packages/IPython/core/display.py\u001b[0m in \u001b[0;36mreload\u001b[0;34m(self)\u001b[0m\n\u001b[1;32m   1261\u001b[0m         \u001b[0;34m\"\"\"Reload the raw data from file or URL.\"\"\"\u001b[0m\u001b[0;34m\u001b[0m\u001b[0;34m\u001b[0m\u001b[0m\n\u001b[1;32m   1262\u001b[0m         \u001b[0;32mif\u001b[0m \u001b[0mself\u001b[0m\u001b[0;34m.\u001b[0m\u001b[0membed\u001b[0m\u001b[0;34m:\u001b[0m\u001b[0;34m\u001b[0m\u001b[0;34m\u001b[0m\u001b[0m\n\u001b[0;32m-> 1263\u001b[0;31m             \u001b[0msuper\u001b[0m\u001b[0;34m(\u001b[0m\u001b[0mImage\u001b[0m\u001b[0;34m,\u001b[0m\u001b[0mself\u001b[0m\u001b[0;34m)\u001b[0m\u001b[0;34m.\u001b[0m\u001b[0mreload\u001b[0m\u001b[0;34m(\u001b[0m\u001b[0;34m)\u001b[0m\u001b[0;34m\u001b[0m\u001b[0;34m\u001b[0m\u001b[0m\n\u001b[0m\u001b[1;32m   1264\u001b[0m             \u001b[0;32mif\u001b[0m \u001b[0mself\u001b[0m\u001b[0;34m.\u001b[0m\u001b[0mretina\u001b[0m\u001b[0;34m:\u001b[0m\u001b[0;34m\u001b[0m\u001b[0;34m\u001b[0m\u001b[0m\n\u001b[1;32m   1265\u001b[0m                 \u001b[0mself\u001b[0m\u001b[0;34m.\u001b[0m\u001b[0m_retina_shape\u001b[0m\u001b[0;34m(\u001b[0m\u001b[0;34m)\u001b[0m\u001b[0;34m\u001b[0m\u001b[0;34m\u001b[0m\u001b[0m\n",
            "\u001b[0;32m/usr/local/lib/python3.12/dist-packages/IPython/core/display.py\u001b[0m in \u001b[0;36mreload\u001b[0;34m(self)\u001b[0m\n\u001b[1;32m    660\u001b[0m         \u001b[0;34m\"\"\"Reload the raw data from file or URL.\"\"\"\u001b[0m\u001b[0;34m\u001b[0m\u001b[0;34m\u001b[0m\u001b[0m\n\u001b[1;32m    661\u001b[0m         \u001b[0;32mif\u001b[0m \u001b[0mself\u001b[0m\u001b[0;34m.\u001b[0m\u001b[0mfilename\u001b[0m \u001b[0;32mis\u001b[0m \u001b[0;32mnot\u001b[0m \u001b[0;32mNone\u001b[0m\u001b[0;34m:\u001b[0m\u001b[0;34m\u001b[0m\u001b[0;34m\u001b[0m\u001b[0m\n\u001b[0;32m--> 662\u001b[0;31m             \u001b[0;32mwith\u001b[0m \u001b[0mopen\u001b[0m\u001b[0;34m(\u001b[0m\u001b[0mself\u001b[0m\u001b[0;34m.\u001b[0m\u001b[0mfilename\u001b[0m\u001b[0;34m,\u001b[0m \u001b[0mself\u001b[0m\u001b[0;34m.\u001b[0m\u001b[0m_read_flags\u001b[0m\u001b[0;34m)\u001b[0m \u001b[0;32mas\u001b[0m \u001b[0mf\u001b[0m\u001b[0;34m:\u001b[0m\u001b[0;34m\u001b[0m\u001b[0;34m\u001b[0m\u001b[0m\n\u001b[0m\u001b[1;32m    663\u001b[0m                 \u001b[0mself\u001b[0m\u001b[0;34m.\u001b[0m\u001b[0mdata\u001b[0m \u001b[0;34m=\u001b[0m \u001b[0mf\u001b[0m\u001b[0;34m.\u001b[0m\u001b[0mread\u001b[0m\u001b[0;34m(\u001b[0m\u001b[0;34m)\u001b[0m\u001b[0;34m\u001b[0m\u001b[0;34m\u001b[0m\u001b[0m\n\u001b[1;32m    664\u001b[0m         \u001b[0;32melif\u001b[0m \u001b[0mself\u001b[0m\u001b[0;34m.\u001b[0m\u001b[0murl\u001b[0m \u001b[0;32mis\u001b[0m \u001b[0;32mnot\u001b[0m \u001b[0;32mNone\u001b[0m\u001b[0;34m:\u001b[0m\u001b[0;34m\u001b[0m\u001b[0;34m\u001b[0m\u001b[0m\n",
            "\u001b[0;31mFileNotFoundError\u001b[0m: [Errno 2] No such file or directory: './Ongoing/Arda/Valinor_Plots/DI_prop/rv_phase.png'"
          ]
        }
      ]
    },
    {
      "cell_type": "markdown",
      "source": [
        "**Differential CCF series**\n",
        "\n",
        "These plots show the differential stellar lines, as they would be retrieved by applying the workflow to a real dataset. As spots are present, these CCFs no longer represent the stellar regions occulted by the planet.\n",
        "\n",
        "The first plot shows the series of mock intrinsic CCFs (blue profiles) in the star rest frame. The second plot, commonly named differential map, shows the series in phase-RV space, colored with flux.\n",
        "\n",
        "This example illustrates the impact of spots on the retrieval of planet-occulted stellar lines. Since spots are present in- and out-of-transit, they affect both the individual exposures and the master out-of-transit used to construct the differential CCFs.This dual impact leads to complex differential maps. With ANTARESS, you will be able to analyze such differential CCF series and extract the spot and planetary properties simultaneously."
      ],
      "metadata": {
        "id": "EBT4MMDPK5og"
      }
    },
    {
      "cell_type": "code",
      "source": [
        "Image(filename = input_nbook['plot_path']+'Diff_data/'+input_nbook['par']['instrument']+'_'+input_nbook['par']['night']+'_Indiv/Data/CCF/phase.gif')"
      ],
      "metadata": {
        "colab": {
          "base_uri": "https://localhost:8080/",
          "height": 299
        },
        "id": "D4hVKSHRK7Ha",
        "outputId": "e341a249-4448-47a4-c813-6eaa976f4e49"
      },
      "execution_count": null,
      "outputs": [
        {
          "output_type": "error",
          "ename": "FileNotFoundError",
          "evalue": "[Errno 2] No such file or directory: './Ongoing/Arda/Valinor_Plots/Diff_data/ESPRESSO_Night 1_Indiv/Data/CCF/phase.gif'",
          "traceback": [
            "\u001b[0;31m---------------------------------------------------------------------------\u001b[0m",
            "\u001b[0;31mFileNotFoundError\u001b[0m                         Traceback (most recent call last)",
            "\u001b[0;32m/tmp/ipython-input-323444620.py\u001b[0m in \u001b[0;36m<cell line: 0>\u001b[0;34m()\u001b[0m\n\u001b[0;32m----> 1\u001b[0;31m \u001b[0mImage\u001b[0m\u001b[0;34m(\u001b[0m\u001b[0mfilename\u001b[0m \u001b[0;34m=\u001b[0m \u001b[0minput_nbook\u001b[0m\u001b[0;34m[\u001b[0m\u001b[0;34m'plot_path'\u001b[0m\u001b[0;34m]\u001b[0m\u001b[0;34m+\u001b[0m\u001b[0;34m'Diff_data/'\u001b[0m\u001b[0;34m+\u001b[0m\u001b[0minput_nbook\u001b[0m\u001b[0;34m[\u001b[0m\u001b[0;34m'par'\u001b[0m\u001b[0;34m]\u001b[0m\u001b[0;34m[\u001b[0m\u001b[0;34m'instrument'\u001b[0m\u001b[0;34m]\u001b[0m\u001b[0;34m+\u001b[0m\u001b[0;34m'_'\u001b[0m\u001b[0;34m+\u001b[0m\u001b[0minput_nbook\u001b[0m\u001b[0;34m[\u001b[0m\u001b[0;34m'par'\u001b[0m\u001b[0;34m]\u001b[0m\u001b[0;34m[\u001b[0m\u001b[0;34m'night'\u001b[0m\u001b[0;34m]\u001b[0m\u001b[0;34m+\u001b[0m\u001b[0;34m'_Indiv/Data/CCF/phase.gif'\u001b[0m\u001b[0;34m)\u001b[0m\u001b[0;34m\u001b[0m\u001b[0;34m\u001b[0m\u001b[0m\n\u001b[0m",
            "\u001b[0;32m/usr/local/lib/python3.12/dist-packages/IPython/core/display.py\u001b[0m in \u001b[0;36m__init__\u001b[0;34m(self, data, url, filename, format, embed, width, height, retina, unconfined, metadata)\u001b[0m\n\u001b[1;32m   1229\u001b[0m         \u001b[0mself\u001b[0m\u001b[0;34m.\u001b[0m\u001b[0mretina\u001b[0m \u001b[0;34m=\u001b[0m \u001b[0mretina\u001b[0m\u001b[0;34m\u001b[0m\u001b[0;34m\u001b[0m\u001b[0m\n\u001b[1;32m   1230\u001b[0m         \u001b[0mself\u001b[0m\u001b[0;34m.\u001b[0m\u001b[0munconfined\u001b[0m \u001b[0;34m=\u001b[0m \u001b[0munconfined\u001b[0m\u001b[0;34m\u001b[0m\u001b[0;34m\u001b[0m\u001b[0m\n\u001b[0;32m-> 1231\u001b[0;31m         super(Image, self).__init__(data=data, url=url, filename=filename, \n\u001b[0m\u001b[1;32m   1232\u001b[0m                 metadata=metadata)\n\u001b[1;32m   1233\u001b[0m \u001b[0;34m\u001b[0m\u001b[0m\n",
            "\u001b[0;32m/usr/local/lib/python3.12/dist-packages/IPython/core/display.py\u001b[0m in \u001b[0;36m__init__\u001b[0;34m(self, data, url, filename, metadata)\u001b[0m\n\u001b[1;32m    635\u001b[0m             \u001b[0mself\u001b[0m\u001b[0;34m.\u001b[0m\u001b[0mmetadata\u001b[0m \u001b[0;34m=\u001b[0m \u001b[0;34m{\u001b[0m\u001b[0;34m}\u001b[0m\u001b[0;34m\u001b[0m\u001b[0;34m\u001b[0m\u001b[0m\n\u001b[1;32m    636\u001b[0m \u001b[0;34m\u001b[0m\u001b[0m\n\u001b[0;32m--> 637\u001b[0;31m         \u001b[0mself\u001b[0m\u001b[0;34m.\u001b[0m\u001b[0mreload\u001b[0m\u001b[0;34m(\u001b[0m\u001b[0;34m)\u001b[0m\u001b[0;34m\u001b[0m\u001b[0;34m\u001b[0m\u001b[0m\n\u001b[0m\u001b[1;32m    638\u001b[0m         \u001b[0mself\u001b[0m\u001b[0;34m.\u001b[0m\u001b[0m_check_data\u001b[0m\u001b[0;34m(\u001b[0m\u001b[0;34m)\u001b[0m\u001b[0;34m\u001b[0m\u001b[0;34m\u001b[0m\u001b[0m\n\u001b[1;32m    639\u001b[0m \u001b[0;34m\u001b[0m\u001b[0m\n",
            "\u001b[0;32m/usr/local/lib/python3.12/dist-packages/IPython/core/display.py\u001b[0m in \u001b[0;36mreload\u001b[0;34m(self)\u001b[0m\n\u001b[1;32m   1261\u001b[0m         \u001b[0;34m\"\"\"Reload the raw data from file or URL.\"\"\"\u001b[0m\u001b[0;34m\u001b[0m\u001b[0;34m\u001b[0m\u001b[0m\n\u001b[1;32m   1262\u001b[0m         \u001b[0;32mif\u001b[0m \u001b[0mself\u001b[0m\u001b[0;34m.\u001b[0m\u001b[0membed\u001b[0m\u001b[0;34m:\u001b[0m\u001b[0;34m\u001b[0m\u001b[0;34m\u001b[0m\u001b[0m\n\u001b[0;32m-> 1263\u001b[0;31m             \u001b[0msuper\u001b[0m\u001b[0;34m(\u001b[0m\u001b[0mImage\u001b[0m\u001b[0;34m,\u001b[0m\u001b[0mself\u001b[0m\u001b[0;34m)\u001b[0m\u001b[0;34m.\u001b[0m\u001b[0mreload\u001b[0m\u001b[0;34m(\u001b[0m\u001b[0;34m)\u001b[0m\u001b[0;34m\u001b[0m\u001b[0;34m\u001b[0m\u001b[0m\n\u001b[0m\u001b[1;32m   1264\u001b[0m             \u001b[0;32mif\u001b[0m \u001b[0mself\u001b[0m\u001b[0;34m.\u001b[0m\u001b[0mretina\u001b[0m\u001b[0;34m:\u001b[0m\u001b[0;34m\u001b[0m\u001b[0;34m\u001b[0m\u001b[0m\n\u001b[1;32m   1265\u001b[0m                 \u001b[0mself\u001b[0m\u001b[0;34m.\u001b[0m\u001b[0m_retina_shape\u001b[0m\u001b[0;34m(\u001b[0m\u001b[0;34m)\u001b[0m\u001b[0;34m\u001b[0m\u001b[0;34m\u001b[0m\u001b[0m\n",
            "\u001b[0;32m/usr/local/lib/python3.12/dist-packages/IPython/core/display.py\u001b[0m in \u001b[0;36mreload\u001b[0;34m(self)\u001b[0m\n\u001b[1;32m    660\u001b[0m         \u001b[0;34m\"\"\"Reload the raw data from file or URL.\"\"\"\u001b[0m\u001b[0;34m\u001b[0m\u001b[0;34m\u001b[0m\u001b[0m\n\u001b[1;32m    661\u001b[0m         \u001b[0;32mif\u001b[0m \u001b[0mself\u001b[0m\u001b[0;34m.\u001b[0m\u001b[0mfilename\u001b[0m \u001b[0;32mis\u001b[0m \u001b[0;32mnot\u001b[0m \u001b[0;32mNone\u001b[0m\u001b[0;34m:\u001b[0m\u001b[0;34m\u001b[0m\u001b[0;34m\u001b[0m\u001b[0m\n\u001b[0;32m--> 662\u001b[0;31m             \u001b[0;32mwith\u001b[0m \u001b[0mopen\u001b[0m\u001b[0;34m(\u001b[0m\u001b[0mself\u001b[0m\u001b[0;34m.\u001b[0m\u001b[0mfilename\u001b[0m\u001b[0;34m,\u001b[0m \u001b[0mself\u001b[0m\u001b[0;34m.\u001b[0m\u001b[0m_read_flags\u001b[0m\u001b[0;34m)\u001b[0m \u001b[0;32mas\u001b[0m \u001b[0mf\u001b[0m\u001b[0;34m:\u001b[0m\u001b[0;34m\u001b[0m\u001b[0;34m\u001b[0m\u001b[0m\n\u001b[0m\u001b[1;32m    663\u001b[0m                 \u001b[0mself\u001b[0m\u001b[0;34m.\u001b[0m\u001b[0mdata\u001b[0m \u001b[0;34m=\u001b[0m \u001b[0mf\u001b[0m\u001b[0;34m.\u001b[0m\u001b[0mread\u001b[0m\u001b[0;34m(\u001b[0m\u001b[0;34m)\u001b[0m\u001b[0;34m\u001b[0m\u001b[0;34m\u001b[0m\u001b[0m\n\u001b[1;32m    664\u001b[0m         \u001b[0;32melif\u001b[0m \u001b[0mself\u001b[0m\u001b[0;34m.\u001b[0m\u001b[0murl\u001b[0m \u001b[0;32mis\u001b[0m \u001b[0;32mnot\u001b[0m \u001b[0;32mNone\u001b[0m\u001b[0;34m:\u001b[0m\u001b[0;34m\u001b[0m\u001b[0;34m\u001b[0m\u001b[0m\n",
            "\u001b[0;31mFileNotFoundError\u001b[0m: [Errno 2] No such file or directory: './Ongoing/Arda/Valinor_Plots/Diff_data/ESPRESSO_Night 1_Indiv/Data/CCF/phase.gif'"
          ]
        }
      ]
    },
    {
      "cell_type": "code",
      "source": [
        "Image(filename = input_nbook['plot_path']+'Diff_data/'+input_nbook['par']['instrument']+'_'+input_nbook['par']['night']+'_Map/Data/CCF/iord0.png', width=800)"
      ],
      "metadata": {
        "colab": {
          "base_uri": "https://localhost:8080/",
          "height": 299
        },
        "id": "_IC4HunYK84u",
        "outputId": "d3bbbde1-9c89-4769-88db-7328ce8294ef"
      },
      "execution_count": null,
      "outputs": [
        {
          "output_type": "error",
          "ename": "FileNotFoundError",
          "evalue": "[Errno 2] No such file or directory: './Ongoing/Arda/Valinor_Plots/Diff_data/ESPRESSO_Night 1_Map/Data/CCF/iord0.png'",
          "traceback": [
            "\u001b[0;31m---------------------------------------------------------------------------\u001b[0m",
            "\u001b[0;31mFileNotFoundError\u001b[0m                         Traceback (most recent call last)",
            "\u001b[0;32m/tmp/ipython-input-2963586129.py\u001b[0m in \u001b[0;36m<cell line: 0>\u001b[0;34m()\u001b[0m\n\u001b[0;32m----> 1\u001b[0;31m \u001b[0mImage\u001b[0m\u001b[0;34m(\u001b[0m\u001b[0mfilename\u001b[0m \u001b[0;34m=\u001b[0m \u001b[0minput_nbook\u001b[0m\u001b[0;34m[\u001b[0m\u001b[0;34m'plot_path'\u001b[0m\u001b[0;34m]\u001b[0m\u001b[0;34m+\u001b[0m\u001b[0;34m'Diff_data/'\u001b[0m\u001b[0;34m+\u001b[0m\u001b[0minput_nbook\u001b[0m\u001b[0;34m[\u001b[0m\u001b[0;34m'par'\u001b[0m\u001b[0;34m]\u001b[0m\u001b[0;34m[\u001b[0m\u001b[0;34m'instrument'\u001b[0m\u001b[0;34m]\u001b[0m\u001b[0;34m+\u001b[0m\u001b[0;34m'_'\u001b[0m\u001b[0;34m+\u001b[0m\u001b[0minput_nbook\u001b[0m\u001b[0;34m[\u001b[0m\u001b[0;34m'par'\u001b[0m\u001b[0;34m]\u001b[0m\u001b[0;34m[\u001b[0m\u001b[0;34m'night'\u001b[0m\u001b[0;34m]\u001b[0m\u001b[0;34m+\u001b[0m\u001b[0;34m'_Map/Data/CCF/iord0.png'\u001b[0m\u001b[0;34m,\u001b[0m \u001b[0mwidth\u001b[0m\u001b[0;34m=\u001b[0m\u001b[0;36m800\u001b[0m\u001b[0;34m)\u001b[0m\u001b[0;34m\u001b[0m\u001b[0;34m\u001b[0m\u001b[0m\n\u001b[0m",
            "\u001b[0;32m/usr/local/lib/python3.12/dist-packages/IPython/core/display.py\u001b[0m in \u001b[0;36m__init__\u001b[0;34m(self, data, url, filename, format, embed, width, height, retina, unconfined, metadata)\u001b[0m\n\u001b[1;32m   1229\u001b[0m         \u001b[0mself\u001b[0m\u001b[0;34m.\u001b[0m\u001b[0mretina\u001b[0m \u001b[0;34m=\u001b[0m \u001b[0mretina\u001b[0m\u001b[0;34m\u001b[0m\u001b[0;34m\u001b[0m\u001b[0m\n\u001b[1;32m   1230\u001b[0m         \u001b[0mself\u001b[0m\u001b[0;34m.\u001b[0m\u001b[0munconfined\u001b[0m \u001b[0;34m=\u001b[0m \u001b[0munconfined\u001b[0m\u001b[0;34m\u001b[0m\u001b[0;34m\u001b[0m\u001b[0m\n\u001b[0;32m-> 1231\u001b[0;31m         super(Image, self).__init__(data=data, url=url, filename=filename, \n\u001b[0m\u001b[1;32m   1232\u001b[0m                 metadata=metadata)\n\u001b[1;32m   1233\u001b[0m \u001b[0;34m\u001b[0m\u001b[0m\n",
            "\u001b[0;32m/usr/local/lib/python3.12/dist-packages/IPython/core/display.py\u001b[0m in \u001b[0;36m__init__\u001b[0;34m(self, data, url, filename, metadata)\u001b[0m\n\u001b[1;32m    635\u001b[0m             \u001b[0mself\u001b[0m\u001b[0;34m.\u001b[0m\u001b[0mmetadata\u001b[0m \u001b[0;34m=\u001b[0m \u001b[0;34m{\u001b[0m\u001b[0;34m}\u001b[0m\u001b[0;34m\u001b[0m\u001b[0;34m\u001b[0m\u001b[0m\n\u001b[1;32m    636\u001b[0m \u001b[0;34m\u001b[0m\u001b[0m\n\u001b[0;32m--> 637\u001b[0;31m         \u001b[0mself\u001b[0m\u001b[0;34m.\u001b[0m\u001b[0mreload\u001b[0m\u001b[0;34m(\u001b[0m\u001b[0;34m)\u001b[0m\u001b[0;34m\u001b[0m\u001b[0;34m\u001b[0m\u001b[0m\n\u001b[0m\u001b[1;32m    638\u001b[0m         \u001b[0mself\u001b[0m\u001b[0;34m.\u001b[0m\u001b[0m_check_data\u001b[0m\u001b[0;34m(\u001b[0m\u001b[0;34m)\u001b[0m\u001b[0;34m\u001b[0m\u001b[0;34m\u001b[0m\u001b[0m\n\u001b[1;32m    639\u001b[0m \u001b[0;34m\u001b[0m\u001b[0m\n",
            "\u001b[0;32m/usr/local/lib/python3.12/dist-packages/IPython/core/display.py\u001b[0m in \u001b[0;36mreload\u001b[0;34m(self)\u001b[0m\n\u001b[1;32m   1261\u001b[0m         \u001b[0;34m\"\"\"Reload the raw data from file or URL.\"\"\"\u001b[0m\u001b[0;34m\u001b[0m\u001b[0;34m\u001b[0m\u001b[0m\n\u001b[1;32m   1262\u001b[0m         \u001b[0;32mif\u001b[0m \u001b[0mself\u001b[0m\u001b[0;34m.\u001b[0m\u001b[0membed\u001b[0m\u001b[0;34m:\u001b[0m\u001b[0;34m\u001b[0m\u001b[0;34m\u001b[0m\u001b[0m\n\u001b[0;32m-> 1263\u001b[0;31m             \u001b[0msuper\u001b[0m\u001b[0;34m(\u001b[0m\u001b[0mImage\u001b[0m\u001b[0;34m,\u001b[0m\u001b[0mself\u001b[0m\u001b[0;34m)\u001b[0m\u001b[0;34m.\u001b[0m\u001b[0mreload\u001b[0m\u001b[0;34m(\u001b[0m\u001b[0;34m)\u001b[0m\u001b[0;34m\u001b[0m\u001b[0;34m\u001b[0m\u001b[0m\n\u001b[0m\u001b[1;32m   1264\u001b[0m             \u001b[0;32mif\u001b[0m \u001b[0mself\u001b[0m\u001b[0;34m.\u001b[0m\u001b[0mretina\u001b[0m\u001b[0;34m:\u001b[0m\u001b[0;34m\u001b[0m\u001b[0;34m\u001b[0m\u001b[0m\n\u001b[1;32m   1265\u001b[0m                 \u001b[0mself\u001b[0m\u001b[0;34m.\u001b[0m\u001b[0m_retina_shape\u001b[0m\u001b[0;34m(\u001b[0m\u001b[0;34m)\u001b[0m\u001b[0;34m\u001b[0m\u001b[0;34m\u001b[0m\u001b[0m\n",
            "\u001b[0;32m/usr/local/lib/python3.12/dist-packages/IPython/core/display.py\u001b[0m in \u001b[0;36mreload\u001b[0;34m(self)\u001b[0m\n\u001b[1;32m    660\u001b[0m         \u001b[0;34m\"\"\"Reload the raw data from file or URL.\"\"\"\u001b[0m\u001b[0;34m\u001b[0m\u001b[0;34m\u001b[0m\u001b[0m\n\u001b[1;32m    661\u001b[0m         \u001b[0;32mif\u001b[0m \u001b[0mself\u001b[0m\u001b[0;34m.\u001b[0m\u001b[0mfilename\u001b[0m \u001b[0;32mis\u001b[0m \u001b[0;32mnot\u001b[0m \u001b[0;32mNone\u001b[0m\u001b[0;34m:\u001b[0m\u001b[0;34m\u001b[0m\u001b[0;34m\u001b[0m\u001b[0m\n\u001b[0;32m--> 662\u001b[0;31m             \u001b[0;32mwith\u001b[0m \u001b[0mopen\u001b[0m\u001b[0;34m(\u001b[0m\u001b[0mself\u001b[0m\u001b[0;34m.\u001b[0m\u001b[0mfilename\u001b[0m\u001b[0;34m,\u001b[0m \u001b[0mself\u001b[0m\u001b[0;34m.\u001b[0m\u001b[0m_read_flags\u001b[0m\u001b[0;34m)\u001b[0m \u001b[0;32mas\u001b[0m \u001b[0mf\u001b[0m\u001b[0;34m:\u001b[0m\u001b[0;34m\u001b[0m\u001b[0;34m\u001b[0m\u001b[0m\n\u001b[0m\u001b[1;32m    663\u001b[0m                 \u001b[0mself\u001b[0m\u001b[0;34m.\u001b[0m\u001b[0mdata\u001b[0m \u001b[0;34m=\u001b[0m \u001b[0mf\u001b[0m\u001b[0;34m.\u001b[0m\u001b[0mread\u001b[0m\u001b[0;34m(\u001b[0m\u001b[0;34m)\u001b[0m\u001b[0;34m\u001b[0m\u001b[0;34m\u001b[0m\u001b[0m\n\u001b[1;32m    664\u001b[0m         \u001b[0;32melif\u001b[0m \u001b[0mself\u001b[0m\u001b[0;34m.\u001b[0m\u001b[0murl\u001b[0m \u001b[0;32mis\u001b[0m \u001b[0;32mnot\u001b[0m \u001b[0;32mNone\u001b[0m\u001b[0;34m:\u001b[0m\u001b[0;34m\u001b[0m\u001b[0;34m\u001b[0m\u001b[0m\n",
            "\u001b[0;31mFileNotFoundError\u001b[0m: [Errno 2] No such file or directory: './Ongoing/Arda/Valinor_Plots/Diff_data/ESPRESSO_Night 1_Map/Data/CCF/iord0.png'"
          ]
        }
      ]
    },
    {
      "cell_type": "code",
      "source": [],
      "metadata": {
        "id": "l8xxR2PfHa-U"
      },
      "execution_count": null,
      "outputs": []
    }
  ]
}