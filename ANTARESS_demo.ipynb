{
  "nbformat": 4,
  "nbformat_minor": 0,
  "metadata": {
    "colab": {
      "provenance": [],
      "collapsed_sections": [
        "e26tont_FNpD",
        "QhskrKI_Eja7",
        "MWAsTAEXS7zw"
      ],
      "authorship_tag": "ABX9TyPNi9eXwv6wcNNG/RtsOLb8",
      "include_colab_link": true
    },
    "kernelspec": {
      "name": "python3",
      "display_name": "Python 3"
    },
    "language_info": {
      "name": "python"
    }
  },
  "cells": [
    {
      "cell_type": "markdown",
      "metadata": {
        "id": "view-in-github",
        "colab_type": "text"
      },
      "source": [
        "<a href=\"https://colab.research.google.com/github/SamMerc/MIT-Stellar-Contamination-Workshop---ANTARESS-demo/blob/main/ANTARESS_demo.ipynb\" target=\"_parent\"><img src=\"https://colab.research.google.com/assets/colab-badge.svg\" alt=\"Open In Colab\"/></a>"
      ]
    },
    {
      "cell_type": "markdown",
      "source": [
        "# MIT Stellar Contamination Workshop\n",
        "## Focus Session IV : Modeling Starspots and Active Surfaces\n",
        "\n",
        "### `ANTARESS` with active regions demo\n",
        "#### Links\n",
        "- `ANTARESS` : [source](https://gitlab.unige.ch/spice_dune/antaress), [docs](https://www.astro.unige.ch/~bourriev/antaress/doc/html/)"
      ],
      "metadata": {
        "id": "BezsgTnqLN02"
      }
    },
    {
      "cell_type": "markdown",
      "source": [
        "# Pre-demo requirements"
      ],
      "metadata": {
        "id": "phTcy0vvOQaL"
      }
    },
    {
      "cell_type": "markdown",
      "source": [
        "##Install `ANTARESS` and background file"
      ],
      "metadata": {
        "id": "e26tont_FNpD"
      }
    },
    {
      "cell_type": "code",
      "source": [
        "%%bash\n",
        "\n",
        "apt-get update -qq\n",
        "apt-get install -y libgsl-dev libcerf-dev\n",
        "pip install --force-reinstall --no-cache-dir numpy==1.26.4 scipy==1.11.4\n",
        "pip install --force-reinstall --no-cache-dir git+https://gitlab.unige.ch/spice_dune/antaress.git@active_region_branch\n",
        "wget -O ANTARESS_nbook_bground.py https://raw.githubusercontent.com/SamMerc/MIT-Stellar-Contamination-Workshop---ANTARESS-demo/main/ANTARESS_nbook_bground.py"
      ],
      "metadata": {
        "id": "OpqiiIoEOPCK"
      },
      "execution_count": null,
      "outputs": []
    },
    {
      "cell_type": "markdown",
      "source": [
        "## Import libraries"
      ],
      "metadata": {
        "id": "MWAsTAEXS7zw"
      }
    },
    {
      "cell_type": "code",
      "source": [
        "import ANTARESS_nbook_bground\n",
        "import os"
      ],
      "metadata": {
        "id": "5duirbYUS7Rr"
      },
      "execution_count": null,
      "outputs": []
    },
    {
      "cell_type": "markdown",
      "source": [
        "# Introduction\n",
        "\n",
        "This notebook allows you to run a simplified version of the ANTARESS workflow, for the following purpose:\n",
        "- generating a mock CCF dataset of a planet transiting a star with active regions (spots or faculae), as observed with a given spectrograph\n",
        "\n",
        "The main interest of including active regions in the construction of the mock dataset is to estimate the impact of various spot configurations on the extracted Rossiter-McLaughlin signature.\n",
        "\n",
        "To exploit the workflow to its full capabilities, run its executable with the [configuration files](https://www.astro.unige.ch/~bourriev/antaress/doc/html/Fixed_files/getting_started.html)."
      ],
      "metadata": {
        "id": "Yb2OXfSvJTEW"
      }
    },
    {
      "cell_type": "code",
      "source": [
        "input_nbook = ANTARESS_nbook_bground.init()\n",
        "input_nbook['type'] = 'mock'\n",
        "\n",
        "if not os.path.isdir('/content/Ongoing/'):os.mkdir('/content/Ongoing/')\n",
        "input_nbook['working_path'] = '/content/Ongoing/'"
      ],
      "metadata": {
        "id": "DOgQ0FXVJOgD"
      },
      "execution_count": null,
      "outputs": []
    },
    {
      "cell_type": "markdown",
      "source": [
        "# System parameters\n",
        "\n",
        "**Parameters of the host star**\n",
        "\n",
        "Run this cell to define the host star.\n",
        "- `star_name` (string): Name of the star. Should not contain spaces/dashes.\n",
        "- `Rs` (float): Radius of the star, in $R_\\odot$.\n",
        "- `sysvel` (float): Systemic radial velocity, in km/s.\n",
        "- `vsini` (float): Projected stellar surface velocity, in km/s.\n",
        "- `istar` (float): Stellar inclination, in degrees.\n",
        "- `ld_u1` (float): First coefficient of the quadratic limb-darkening.\n",
        "- `ld_u2` (float): Second coefficient of the quadratic limb-darkening."
      ],
      "metadata": {
        "id": "v2-M0BHXJsJD"
      }
    },
    {
      "cell_type": "code",
      "source": [
        "input_nbook['par'].update({\n",
        "    'star_name' : 'Arda',\n",
        "    'Rs'        : 0.9,\n",
        "    'sysvel'    : 0.,\n",
        "    'vsini'     : 15.,\n",
        "    'istar'     : 90.,\n",
        "    'ld_u1'     : 0.2,\n",
        "    'ld_u2'     : 0.5,\n",
        "})\n",
        "ANTARESS_nbook_bground.init_star(input_nbook)"
      ],
      "metadata": {
        "id": "ZCmovz1pJuaJ"
      },
      "execution_count": null,
      "outputs": []
    },
    {
      "cell_type": "markdown",
      "source": [
        "**Parameters of transiting planet**\n",
        "\n",
        "Run this cell to set the transiting planet on which the RM analysis is applied.\n",
        "- `planet_name` (string): Name of the transiting planet. Should not contain spaces/dashes.\n",
        "- `period` (float): Orbital period, in days.\n",
        "- `T0` (float): Mid-transit time, in ${\\rm BJD}_{\\rm TBD}$.\n",
        "- `ecc` (float): Orbital eccentricity.\n",
        "- `long_per` (float): Longitude of periastron, in degrees. If the orbit is circular, fill in `90.`.\n",
        "- `Kstar` (float): RV semi-amplitude, in m/s.\n",
        "- `aRs` (float): Scaled separation $a/R_\\star$.\n",
        "- `incl` (float): Orbital inclination, in degrees.\n",
        "- `lambda` (float): Sky-projected spin-orbit angle, in degrees.\n",
        "- `RpRs` (float): Planet-to-star radius ratio $R_{\\rm p}/R_\\star$."
      ],
      "metadata": {
        "id": "_XrplQO7JwgZ"
      }
    },
    {
      "cell_type": "code",
      "source": [
        "input_nbook['par'].update({\n",
        "    'planet_name' : 'Valinor',\n",
        "    'period'      : 3.8,\n",
        "    'T0'          : 2457176.1,\n",
        "    'ecc'         : 0.,\n",
        "    'long_per'    : 90.,\n",
        "    'Kstar'       : 38.1,\n",
        "    'aRs'         : 12.0,\n",
        "    'incl'        : 89.,\n",
        "    'lambda'      : 50.,\n",
        "    'RpRs'        : 0.25\n",
        "})\n",
        "ANTARESS_nbook_bground.init_pl(input_nbook,'main')"
      ],
      "metadata": {
        "id": "-O1CZ-dPJyIt"
      },
      "execution_count": null,
      "outputs": []
    },
    {
      "cell_type": "markdown",
      "source": [
        "**Parameters of additional planets in the system**\n",
        "\n",
        "Run this cell to set additional planets, which will only contribute to the computation of the star Keplerian motion.\n",
        "\n",
        "The names and definitions of the parameters are the same as for the main planet (`aRs`, `incl`, `RpRs` are not required).\n",
        "\n",
        "Copy the cell to add further planets"
      ],
      "metadata": {
        "id": "e49QtgvGJ0GS"
      }
    },
    {
      "cell_type": "code",
      "source": [
        "input_nbook['par'].update({\n",
        "    'planet_name' : 'Numenor',\n",
        "    'period'      : 8.,\n",
        "    'T0'          : 2457176.2,\n",
        "    'ecc'         : 0.,\n",
        "    'long_per'    : 90.,\n",
        "    'Kstar'       : 20.\n",
        "})\n",
        "ANTARESS_nbook_bground.init_pl(input_nbook,'sec')"
      ],
      "metadata": {
        "id": "_NB5LpLbJ1YK"
      },
      "execution_count": null,
      "outputs": []
    },
    {
      "cell_type": "markdown",
      "source": [
        "# Mock dataset properties\n",
        "\n",
        "**Visit**\n",
        "\n",
        "Run this cell to define the mock visit. It must overlap with the transit of the `transiting planet`.\n",
        "- `instrument` (string): Instrument of the visit (e.g. `ESPRESSO`, `HARPS`...).\n",
        "- `night` (string): Night of the visit. It is preferred to use the standard format, i.e. `YYYYMMDD`.\n",
        "- `range` (list): Absolute time range of the visit, in BJD.\n",
        "- `nexp` (int): Number of exposures in the visit."
      ],
      "metadata": {
        "id": "BUdmrBUqJ4r_"
      }
    },
    {
      "cell_type": "code",
      "source": [
        "input_nbook['par'].update({\n",
        "    'instrument' : 'ESPRESSO',\n",
        "    'night'      : 'Night_1',\n",
        "    'range'      : [2457176.1 -3./24.,2457176.1 + 3./24.],\n",
        "    'nexp'       : 50,\n",
        "})\n",
        "ANTARESS_nbook_bground.add_vis(input_nbook,mock=True)"
      ],
      "metadata": {
        "id": "W5yTY-elJ8YB"
      },
      "execution_count": null,
      "outputs": []
    },
    {
      "cell_type": "markdown",
      "source": [
        "**Radial velocity table**\n",
        "\n",
        "Run this cell to set the radial velocity table over which CCFs are defined (in km/s, in the star rest frame).\n",
        "- `x_start` (float): start of the table.\n",
        "- `x_end` (float): end of the table.\n",
        "- `dx` (float): step of the table."
      ],
      "metadata": {
        "id": "VOTh2JCGKAlc"
      }
    },
    {
      "cell_type": "code",
      "source": [
        "input_nbook['par'].update({\n",
        "    'x_start' : -80.,\n",
        "    'x_end'   :  80.,\n",
        "    'dx'      :  0.8\n",
        "})\n",
        "ANTARESS_nbook_bground.set_mock_rv(input_nbook)"
      ],
      "metadata": {
        "id": "djY08wUeKBE6"
      },
      "execution_count": null,
      "outputs": []
    },
    {
      "cell_type": "markdown",
      "source": [
        "**Parameters of the main active region**\n",
        "\n",
        "Run this cell to define the main active region.\n",
        "- `ar_name` (string): Name of the active region. Should not contain spaces/dashes.\n",
        "- `lat` (float): Constant latitude of the active region, in degrees.\n",
        "- `ang` (float): Half-angular size, in degrees.\n",
        "- `Tc` (float): Time at which the active region is at longitude 0, in ${\\rm BJD}_{\\rm TBD}$.\n",
        "- `fctrst` (float): Flux level of the active region surface, relative to the quiet surface of the star. 0 = no emission, < 1 = dimmer than the quiet surface (i.e. a spot), > 1 = brighter than the quiet surface (i.e. a facula)\n",
        "- `ld_ar_u1` (float): First coefficient of the active region's quadratic limb-darkening.\n",
        "- `ld_ar_u2` (float): Second coefficient of the active region's quadratic limb-darkening."
      ],
      "metadata": {
        "id": "mHUJNMdFKFoq"
      }
    },
    {
      "cell_type": "code",
      "source": [
        "input_nbook['par'].update({\n",
        "    'ar_name'    : 'Laurelin',\n",
        "    'lat'        : 20.,\n",
        "    'ang'        : 15.,\n",
        "    'Tc'         : 2457176.0,\n",
        "    'fctrst'     : 0.5,\n",
        "    'ld_ar_u1'   : 0.2,\n",
        "    'ld_ar_u2'   : 0.5\n",
        "})\n",
        "ANTARESS_nbook_bground.init_ar(input_nbook,'main')"
      ],
      "metadata": {
        "id": "-pIJKREGKGIr"
      },
      "execution_count": null,
      "outputs": []
    },
    {
      "cell_type": "markdown",
      "source": [
        "**Parameters of additional active regions**\n",
        "\n",
        "Run this cell to set additional active regions.\n",
        "\n",
        "The names and definitions of the parameters are the same as for the main active region (`ld_ar_u1` and `ld_ar\n",
        "_u2` are not required as they are shared across active regions).\n",
        "\n",
        "Copy this cell to add further active region."
      ],
      "metadata": {
        "id": "YDnTMH_fKIk7"
      }
    },
    {
      "cell_type": "code",
      "source": [
        "input_nbook['par'].update({\n",
        "    'ar_name'    : 'Telperion',\n",
        "    'lat'          : -10.,\n",
        "    'ang'          : 20.,\n",
        "    'Tc'           : 2457176.2,\n",
        "})\n",
        "ANTARESS_nbook_bground.init_ar(input_nbook,'sec')"
      ],
      "metadata": {
        "id": "iYDW5ibgKKOK"
      },
      "execution_count": null,
      "outputs": []
    },
    {
      "cell_type": "markdown",
      "source": [
        "**Stellar line**\n",
        "\n",
        "Run this cell to set the absorption line used to tile the star.\n",
        "- `gamma` (float): systemic rv (in km/s).\n",
        "- `contrast` (float): intrinsic line constrast.\n",
        "- `FWHM` (float): intrinsic line full-width at half-maximum (in km/s)\n",
        "- `flux` (float): disk-integrated line continuum flux (number of counts received for an exposure time of 1 s).\n",
        "- `noise` (bool): set to True to randomly draw white noise for each CCF pixel, based on its count level (to increase the S/N, increase `flux`).\n",
        "\n",
        "Line is arbitrarily set to a Gaussian profile, centered in the star rest frame."
      ],
      "metadata": {
        "id": "D-TAzEDgKMQn"
      }
    },
    {
      "cell_type": "code",
      "source": [
        "input_nbook['par'].update({\n",
        "    'gamma'      : 10.,\n",
        "    'contrast'   : 0.7,\n",
        "    'FWHM'       : 2.5,\n",
        "    'flux'       : 800,\n",
        "    'noise'      : True,\n",
        "})\n",
        "ANTARESS_nbook_bground.set_mock_prof(input_nbook)"
      ],
      "metadata": {
        "id": "gouaqVNQKNxi"
      },
      "execution_count": null,
      "outputs": []
    },
    {
      "cell_type": "markdown",
      "source": [
        "# Processing and analysis for plot display.\n",
        "\n",
        "Run this cell to set up the processing and analysis modules. This has no impact on the generation of the mock dataset, but it is required for its display."
      ],
      "metadata": {
        "id": "M4HinxohKRAd"
      }
    },
    {
      "cell_type": "code",
      "source": [
        "ANTARESS_nbook_bground.save_system(input_nbook)\n",
        "ANTARESS_nbook_bground.ana_prof(input_nbook,'DI')\n",
        "ANTARESS_nbook_bground.set_sysvel(input_nbook)\n",
        "ANTARESS_nbook_bground.align_prof(input_nbook)\n",
        "ANTARESS_nbook_bground.flux_sc(input_nbook)\n",
        "ANTARESS_nbook_bground.DImast_weight(input_nbook)\n",
        "ANTARESS_nbook_bground.extract_diff(input_nbook)"
      ],
      "metadata": {
        "id": "q1EgaleBKThC"
      },
      "execution_count": null,
      "outputs": []
    },
    {
      "cell_type": "markdown",
      "source": [
        "Run these cells to set up the plot display of your mock dataset (see at the end of the notebook)."
      ],
      "metadata": {
        "id": "254dA8rHKVDO"
      }
    },
    {
      "cell_type": "code",
      "source": [
        "ANTARESS_nbook_bground.plot_system(input_nbook)\n",
        "ANTARESS_nbook_bground.plot_prop(input_nbook,'DI')\n",
        "ANTARESS_nbook_bground.plot_ar(input_nbook)"
      ],
      "metadata": {
        "id": "TpWj4-zKKWZR"
      },
      "execution_count": null,
      "outputs": []
    },
    {
      "cell_type": "markdown",
      "source": [
        "**Disk-integrated CCF series**\n",
        "\n",
        "Uncomment `y_range` to adjust the flux range of the CCFs (vertical axis)"
      ],
      "metadata": {
        "id": "a7zuwTc8KYA8"
      }
    },
    {
      "cell_type": "code",
      "source": [
        "# input_nbook['par']['y_range'] = [2.8e5,3.55e5]\n",
        "ANTARESS_nbook_bground.plot_prof(input_nbook,'DI_prof')"
      ],
      "metadata": {
        "id": "oLF4Egf8KZfo"
      },
      "execution_count": null,
      "outputs": []
    },
    {
      "cell_type": "markdown",
      "source": [
        "**Differential stellar profiles**\n",
        "\n",
        "Uncomment `y_range` and `v_range` to adjust the flux range of the CCFs (vertical axis in 1D, color scale in 2D)"
      ],
      "metadata": {
        "id": "fYT2dt23Kd_J"
      }
    },
    {
      "cell_type": "code",
      "source": [
        "# input_nbook['par']['y_range'] = [0.5,1.2]\n",
        "ANTARESS_nbook_bground.plot_prof(input_nbook,'Diff_prof')\n",
        "# input_nbook['par']['v_range'] = [0.6,1.1]\n",
        "ANTARESS_nbook_bground.plot_map(input_nbook,'Diff_prof')"
      ],
      "metadata": {
        "id": "a2lh78P9KeWF"
      },
      "execution_count": null,
      "outputs": []
    },
    {
      "cell_type": "markdown",
      "source": [
        "# Running ANTARESS\n",
        "\n",
        "Run this cell to launch the ANTARESS workflow.\n",
        "\n",
        "The mock CCF profile series can then be retrieved under `working_path/Arda/Valinor_Saved_data/Processed_data/instrument_night_i.npz`"
      ],
      "metadata": {
        "id": "aDzOUx42KhZL"
      }
    },
    {
      "cell_type": "code",
      "source": [
        "from antaress.ANTARESS_launch.ANTARESS_launcher import ANTARESS_launcher\n",
        "ANTARESS_launcher(working_path=input_nbook['working_path'], nbook_dic = input_nbook, exec_comm=False)"
      ],
      "metadata": {
        "id": "ArP8DMypKk8A"
      },
      "execution_count": null,
      "outputs": []
    },
    {
      "cell_type": "markdown",
      "source": [
        "# Plot display"
      ],
      "metadata": {
        "id": "2918W7LqKnfN"
      }
    },
    {
      "cell_type": "code",
      "source": [
        "from IPython.display import Image\n",
        "from IPython.core.display import HTML"
      ],
      "metadata": {
        "id": "Zb7Wv4MlKqdd"
      },
      "execution_count": null,
      "outputs": []
    },
    {
      "cell_type": "markdown",
      "source": [
        "Run the cells below to show saved plots.\n",
        "\n",
        "**Planetary system architecture**\n",
        "\n",
        "This plot shows the system along the line-of-sight, to scale. The star is colored as a function of its surface radial velocity field, and the planetary orbit displayed as a green line is controlled by the system values you defined. The spots are shown as grey grids, with their shade controlled by the contrast you defined. The spots' orbit is displayed with a lime green line. The black and green arrow are the sky-projected stellar spin and orbital normal. Many more options are available through the plotting configuration file."
      ],
      "metadata": {
        "id": "B1HyppJVKrMB"
      }
    },
    {
      "cell_type": "code",
      "source": [
        "Image(filename = input_nbook['plot_path']+'System_view/System.gif', width=800)"
      ],
      "metadata": {
        "id": "Lbp8z9pFKupj"
      },
      "execution_count": null,
      "outputs": []
    },
    {
      "cell_type": "markdown",
      "source": [
        "**Disk-integrated CCF series**\n",
        "\n",
        "This plot shows the series of mock disk-integrated CCFs (blue profiles). Depending on the system properties you defined, you will see by eye the anomalous `bumps` induced by the occultation of local stellar lines by the planet and spots.\n",
        "\n",
        "The dashed black profiles are best-fit Gaussian models to each CCF, as is usually used to derive RVs."
      ],
      "metadata": {
        "id": "eK91a0oYKyhJ"
      }
    },
    {
      "cell_type": "code",
      "source": [
        "Image(filename = input_nbook['plot_path']+'DI_data/'+input_nbook['par']['instrument']+'_'+input_nbook['par']['night']+'_Indiv/Data/CCF/phase.gif')"
      ],
      "metadata": {
        "id": "12Oq_GpVKz4h"
      },
      "execution_count": null,
      "outputs": []
    },
    {
      "cell_type": "markdown",
      "source": [
        "**Disk-integrated RV series**\n",
        "\n",
        "This plot shows the RV series derived from the fits to the mock CCF series.\n",
        "\n",
        "If only planets were present, we would expect the out-of-transit RVs (contacts shown as dashed black lines) to trace the Keplerian motion of your mock star with respect to the solar system barycenter (the Keplerian model is plotted as a blue curve), while the in-transit RVs would present the classical RM anomaly induced by the local occultation of stellar lines by the planet.\n",
        "\n",
        "Spots induce additional distortions in the in- and out-of-transit disk-integrated CCFs, complicating the interpretation of fitted RV values. Indeed, it becomes challenging to use the 'Classical' RM technique, which relies on analyzing these disk-integrated RV series, for the extraction of planetary orbital architectures as the spot and planet contributions are intertwined."
      ],
      "metadata": {
        "id": "ivJblfePK2DL"
      }
    },
    {
      "cell_type": "code",
      "source": [
        "Image(filename = input_nbook['plot_path']+'DI_prop/rv_phase.png')"
      ],
      "metadata": {
        "id": "_DKifckdK35Z"
      },
      "execution_count": null,
      "outputs": []
    },
    {
      "cell_type": "markdown",
      "source": [
        "**Differential CCF series**\n",
        "\n",
        "These plots show the differential stellar lines, as they would be retrieved by applying the workflow to a real dataset. As spots are present, these CCFs no longer represent the stellar regions occulted by the planet.\n",
        "\n",
        "The first plot shows the series of mock intrinsic CCFs (blue profiles) in the star rest frame. The second plot, commonly named differential map, shows the series in phase-RV space, colored with flux.\n",
        "\n",
        "This example illustrates the impact of spots on the retrieval of planet-occulted stellar lines. Since spots are present in- and out-of-transit, they affect both the individual exposures and the master out-of-transit used to construct the differential CCFs.This dual impact leads to complex differential maps. With ANTARESS, you will be able to analyze such differential CCF series and extract the spot and planetary properties simultaneously."
      ],
      "metadata": {
        "id": "EBT4MMDPK5og"
      }
    },
    {
      "cell_type": "code",
      "source": [
        "Image(filename = input_nbook['plot_path']+'Diff_data/'+input_nbook['par']['instrument']+'_'+input_nbook['par']['night']+'_Indiv/Data/CCF/phase.gif')"
      ],
      "metadata": {
        "id": "D4hVKSHRK7Ha"
      },
      "execution_count": null,
      "outputs": []
    },
    {
      "cell_type": "code",
      "source": [
        "Image(filename = input_nbook['plot_path']+'Diff_data/'+input_nbook['par']['instrument']+'_'+input_nbook['par']['night']+'_Map/Data/CCF/iord0.png', width=800)"
      ],
      "metadata": {
        "id": "_IC4HunYK84u"
      },
      "execution_count": null,
      "outputs": []
    },
    {
      "cell_type": "code",
      "source": [],
      "metadata": {
        "id": "l8xxR2PfHa-U"
      },
      "execution_count": null,
      "outputs": []
    }
  ]
}